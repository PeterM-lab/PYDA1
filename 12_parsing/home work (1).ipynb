{
 "cells": [
  {
   "cell_type": "markdown",
   "metadata": {},
   "source": [
    "# Домашнее задание к лекции \"Основы веб-скрапинга и работы с API\""
   ]
  },
  {
   "cell_type": "markdown",
   "metadata": {},
   "source": [
    "## Задание 1. \n",
    "\n",
    "### Обязательная часть"
   ]
  },
  {
   "cell_type": "markdown",
   "metadata": {},
   "source": [
    "Будем парсить страницу со свежеми новостям на [habr.com/ru/all/](https://habr.com/ru/all/).\n",
    "\n",
    "Вам необходимо собирать только те статьи, в которых встречается хотя бы одно требуемое ключевое слово. Эти слова определяем в начале кода в переменной, например:\n",
    "\n",
    "`KEYWORDS = ['python', 'парсинг']`\n",
    "\n",
    " Поиск вести по всей доступной preview-информации (это информация, доступная непосредственно с текущей страницы). \n",
    " \n",
    "В итоге должен формироваться датафрейм вида: `<дата> - <заголовок> - <ссылка>`"
   ]
  },
  {
   "cell_type": "markdown",
   "metadata": {},
   "source": [
    "### Дополнительная часть (необязательная)"
   ]
  },
  {
   "cell_type": "markdown",
   "metadata": {},
   "source": [
    "Улучшить скрипт так, чтобы он анализировал не только preview-информацию статьи, но и весь текст статьи целиком.\n",
    "\n",
    "Для этого потребуется получать страницы статей и искать по тексту внутри этой страницы.  \n",
    "\n",
    "Итоговый датафрейм формировать со столбцами: `<дата> - <заголовок> - <ссылка> - <текст_статьи>`\n"
   ]
  },
  {
   "cell_type": "code",
   "execution_count": 10,
   "metadata": {},
   "outputs": [],
   "source": [
    "import requests\n",
    "import pandas as pd"
   ]
  },
  {
   "cell_type": "code",
   "execution_count": 11,
   "metadata": {},
   "outputs": [],
   "source": [
    "from bs4 import BeautifulSoup"
   ]
  },
  {
   "cell_type": "code",
   "execution_count": 100,
   "metadata": {},
   "outputs": [],
   "source": [
    "url = 'https://habr.com/ru/all/'\n",
    "res = requests.get(url)\n",
    "soup = BeautifulSoup(res.text, 'html.parser')"
   ]
  },
  {
   "cell_type": "code",
   "execution_count": 162,
   "metadata": {},
   "outputs": [],
   "source": [
    "KEYWORDS = ['signal', 'java']"
   ]
  },
  {
   "cell_type": "code",
   "execution_count": 163,
   "metadata": {},
   "outputs": [],
   "source": [
    "# извлекаем посты\n",
    "posts = soup.find_all('article', class_='post')"
   ]
  },
  {
   "cell_type": "code",
   "execution_count": 178,
   "metadata": {},
   "outputs": [],
   "source": [
    "my_data = []\n",
    "my_data_full = []\n",
    "\n",
    "# добавляем извлечение хабов из постов, чтобы отбирать только нужные\n",
    "for post in posts:\n",
    "    post_id = post.parent.attrs.get('id')\n",
    "   # если идентификатор не найден, это что-то странное, пропускаем\n",
    "    if not post_id:\n",
    "        continue\n",
    "    \n",
    "    # первая часть задания\n",
    "    date_ = post.find('span', class_='post__time')\n",
    "    link_all = post.find('a', class_='post__title_link')\n",
    "    link = link_all.attrs.get('href')\n",
    "    \n",
    "    if any([desired in link_all.text.lower() for desired in KEYWORDS]): \n",
    "        to_add = [date_.text, link_all.text, link]\n",
    "        my_data += [to_add]\n",
    "         \n",
    "    # вторая часть задания\n",
    "    res_full = requests.get(link)\n",
    "    soup2 = BeautifulSoup(res_full.text, 'html.parser')\n",
    "    full_text = soup2.find('div', class_='post__body post__body_full')\n",
    "    \n",
    "    if any([desired in full_text.text.lower() for desired in KEYWORDS]): \n",
    "        to_add_full = [date_.text, link_all.text, link, full_text.text]\n",
    "        my_data_full += [to_add_full]"
   ]
  },
  {
   "cell_type": "code",
   "execution_count": 179,
   "metadata": {},
   "outputs": [],
   "source": [
    "df_columns = ['data', 'title', 'link']\n",
    "df = pd.DataFrame(my_data, columns=df_columns)"
   ]
  },
  {
   "cell_type": "code",
   "execution_count": 180,
   "metadata": {},
   "outputs": [
    {
     "data": {
      "text/html": [
       "<div>\n",
       "<style scoped>\n",
       "    .dataframe tbody tr th:only-of-type {\n",
       "        vertical-align: middle;\n",
       "    }\n",
       "\n",
       "    .dataframe tbody tr th {\n",
       "        vertical-align: top;\n",
       "    }\n",
       "\n",
       "    .dataframe thead th {\n",
       "        text-align: right;\n",
       "    }\n",
       "</style>\n",
       "<table border=\"1\" class=\"dataframe\">\n",
       "  <thead>\n",
       "    <tr style=\"text-align: right;\">\n",
       "      <th></th>\n",
       "      <th>data</th>\n",
       "      <th>title</th>\n",
       "      <th>link</th>\n",
       "    </tr>\n",
       "  </thead>\n",
       "  <tbody>\n",
       "    <tr>\n",
       "      <th>0</th>\n",
       "      <td>сегодня в 00:33</td>\n",
       "      <td>Signal: Взлом Cellebrite с атакованного устрой...</td>\n",
       "      <td>https://habr.com/ru/post/554188/</td>\n",
       "    </tr>\n",
       "    <tr>\n",
       "      <th>1</th>\n",
       "      <td>вчера в 17:10</td>\n",
       "      <td>API, ради которых наконец-то стоит обновиться ...</td>\n",
       "      <td>https://habr.com/ru/post/554128/</td>\n",
       "    </tr>\n",
       "  </tbody>\n",
       "</table>\n",
       "</div>"
      ],
      "text/plain": [
       "              data                                              title  \\\n",
       "0  сегодня в 00:33  Signal: Взлом Cellebrite с атакованного устрой...   \n",
       "1    вчера в 17:10  API, ради которых наконец-то стоит обновиться ...   \n",
       "\n",
       "                               link  \n",
       "0  https://habr.com/ru/post/554188/  \n",
       "1  https://habr.com/ru/post/554128/  "
      ]
     },
     "execution_count": 180,
     "metadata": {},
     "output_type": "execute_result"
    }
   ],
   "source": [
    "df"
   ]
  },
  {
   "cell_type": "code",
   "execution_count": 182,
   "metadata": {},
   "outputs": [],
   "source": [
    "df_columns = ['data', 'title', 'link','full_text']\n",
    "df_full = pd.DataFrame(my_data_full, columns=df_columns)"
   ]
  },
  {
   "cell_type": "code",
   "execution_count": 183,
   "metadata": {},
   "outputs": [
    {
     "data": {
      "text/html": [
       "<div>\n",
       "<style scoped>\n",
       "    .dataframe tbody tr th:only-of-type {\n",
       "        vertical-align: middle;\n",
       "    }\n",
       "\n",
       "    .dataframe tbody tr th {\n",
       "        vertical-align: top;\n",
       "    }\n",
       "\n",
       "    .dataframe thead th {\n",
       "        text-align: right;\n",
       "    }\n",
       "</style>\n",
       "<table border=\"1\" class=\"dataframe\">\n",
       "  <thead>\n",
       "    <tr style=\"text-align: right;\">\n",
       "      <th></th>\n",
       "      <th>data</th>\n",
       "      <th>title</th>\n",
       "      <th>link</th>\n",
       "      <th>full_text</th>\n",
       "    </tr>\n",
       "  </thead>\n",
       "  <tbody>\n",
       "    <tr>\n",
       "      <th>0</th>\n",
       "      <td>сегодня в 08:17</td>\n",
       "      <td>Русские программисты не сдаются-2</td>\n",
       "      <td>https://habr.com/ru/post/554104/</td>\n",
       "      <td>\\n\\n\\n «Главное в следственных действиях – \\r\\...</td>\n",
       "    </tr>\n",
       "    <tr>\n",
       "      <th>1</th>\n",
       "      <td>сегодня в 00:33</td>\n",
       "      <td>Signal: Взлом Cellebrite с атакованного устрой...</td>\n",
       "      <td>https://habr.com/ru/post/554188/</td>\n",
       "      <td>\\nКомпания Cellebrite производит программное о...</td>\n",
       "    </tr>\n",
       "    <tr>\n",
       "      <th>2</th>\n",
       "      <td>вчера в 17:10</td>\n",
       "      <td>API, ради которых наконец-то стоит обновиться ...</td>\n",
       "      <td>https://habr.com/ru/post/554128/</td>\n",
       "      <td>\\nКакие есть причины переходить на новые верси...</td>\n",
       "    </tr>\n",
       "    <tr>\n",
       "      <th>3</th>\n",
       "      <td>вчера в 15:15</td>\n",
       "      <td>Лучшие экспериментальные протоколы для исследо...</td>\n",
       "      <td>https://habr.com/ru/company/skillfactory/blog/...</td>\n",
       "      <td>\\nЗолотым стандартом исследований в области ма...</td>\n",
       "    </tr>\n",
       "    <tr>\n",
       "      <th>4</th>\n",
       "      <td>вчера в 14:01</td>\n",
       "      <td>Релиз Node.js 16: обзор лучшего</td>\n",
       "      <td>https://habr.com/ru/company/macloud/blog/554098/</td>\n",
       "      <td>\\n\\n\\r\\n20 апреля состоялся релиз новой 16 вер...</td>\n",
       "    </tr>\n",
       "  </tbody>\n",
       "</table>\n",
       "</div>"
      ],
      "text/plain": [
       "              data                                              title  \\\n",
       "0  сегодня в 08:17                  Русские программисты не сдаются-2   \n",
       "1  сегодня в 00:33  Signal: Взлом Cellebrite с атакованного устрой...   \n",
       "2    вчера в 17:10  API, ради которых наконец-то стоит обновиться ...   \n",
       "3    вчера в 15:15  Лучшие экспериментальные протоколы для исследо...   \n",
       "4    вчера в 14:01                    Релиз Node.js 16: обзор лучшего   \n",
       "\n",
       "                                                link  \\\n",
       "0                   https://habr.com/ru/post/554104/   \n",
       "1                   https://habr.com/ru/post/554188/   \n",
       "2                   https://habr.com/ru/post/554128/   \n",
       "3  https://habr.com/ru/company/skillfactory/blog/...   \n",
       "4   https://habr.com/ru/company/macloud/blog/554098/   \n",
       "\n",
       "                                           full_text  \n",
       "0  \\n\\n\\n «Главное в следственных действиях – \\r\\...  \n",
       "1  \\nКомпания Cellebrite производит программное о...  \n",
       "2  \\nКакие есть причины переходить на новые верси...  \n",
       "3  \\nЗолотым стандартом исследований в области ма...  \n",
       "4  \\n\\n\\r\\n20 апреля состоялся релиз новой 16 вер...  "
      ]
     },
     "execution_count": 183,
     "metadata": {},
     "output_type": "execute_result"
    }
   ],
   "source": [
    "df_full"
   ]
  },
  {
   "cell_type": "markdown",
   "metadata": {},
   "source": [
    "## Задание 2."
   ]
  },
  {
   "cell_type": "markdown",
   "metadata": {},
   "source": [
    "### Обязательная часть"
   ]
  },
  {
   "cell_type": "markdown",
   "metadata": {},
   "source": [
    "Написать скрипт, который будет проверять список e-mail адресов на утечку при помощи сервиса [Avast Hack Ckeck](https://www.avast.com/hackcheck/).\n",
    "Список email-ов задаем переменной в начале кода:  \n",
    "`EMAIL = [xxx@x.ru, yyy@y.com]`\n",
    "\n",
    "В итоге должен формироваться датафрейм со столбцами: `<почта> - <дата утечки> - <источник утечки> - <описание утечки>`  \n",
    "\n",
    "**Подсказка**: сервис работает при помощи \"скрытого\" API. Внимательно изучите post-запросы."
   ]
  },
  {
   "cell_type": "code",
   "execution_count": 2,
   "metadata": {},
   "outputs": [],
   "source": [
    "URL = 'https://identityprotection.avast.com/v1/web/query/site-breaches/unauthorized-data'"
   ]
  },
  {
   "cell_type": "code",
   "execution_count": 3,
   "metadata": {},
   "outputs": [],
   "source": [
    "headers = {\n",
    "    'Accept': 'application/json, text/plain, */*',\n",
    "    'Accept-Encoding': 'gzip, deflate, br',\n",
    "    'Accept-Language': 'ru-RU,ru;q=0.9,en-US;q=0.8,en;q=0.7',\n",
    "    'Connection': 'keep-alive',\n",
    "    'Content-Length': '46',\n",
    "    'Content-Type': 'application/json;charset=UTF-8',\n",
    "    'Host': 'identityprotection.avast.com',\n",
    "    'Origin': 'https://www.avast.com',\n",
    "    'Referer': 'https://www.avast.com/',\n",
    "    'sec-ch-ua': '\"Google Chrome\";v=\"89\", \"Chromium\";v=\"89\", \";Not A Brand\";v=\"99\"',\n",
    "    'sec-ch-ua-mobile': '?0',\n",
    "    'Sec-Fetch-Dest': 'empty',\n",
    "    'Sec-Fetch-Mode': 'cors',\n",
    "    'Sec-Fetch-Site': 'same-site',\n",
    "    'User-Agent': 'Mozilla/5.0 (Windows NT 10.0; Win64; x64) AppleWebKit/537.36 (KHTML, like Gecko) Chrome/89.0.4389.128 Safari/537.36',\n",
    "    'Vaar-Header-App-Build-Version': '1.0.0',\n",
    "    'Vaar-Header-App-Product': 'hackcheck-web-avast',\n",
    "    'Vaar-Header-App-Product-Name': 'hackcheck-web-avast',\n",
    "    'Vaar-Version': '0'\n",
    "}"
   ]
  },
  {
   "cell_type": "code",
   "execution_count": 4,
   "metadata": {},
   "outputs": [
    {
     "data": {
      "text/plain": [
       "<Response [200]>"
      ]
     },
     "execution_count": 4,
     "metadata": {},
     "output_type": "execute_result"
    }
   ],
   "source": [
    "res = requests.post(URL, headers = headers, json = {\"emailAddresses\":[\"martynovpeter@gmail.com\",\"peter.box@yandex.ru\"]})\n",
    "res"
   ]
  },
  {
   "cell_type": "code",
   "execution_count": 5,
   "metadata": {},
   "outputs": [],
   "source": [
    "result = res.json()"
   ]
  },
  {
   "cell_type": "code",
   "execution_count": 22,
   "metadata": {},
   "outputs": [],
   "source": [
    "list1 = []\n",
    "for key, value in result['data'].items():\n",
    "    \n",
    "    email = list(value.keys())[0]\n",
    "    source = key\n",
    "    breachId = str(list(value.values())[0][0]['breachId'])\n",
    "    list1 += [[breachId,email,source]]"
   ]
  },
  {
   "cell_type": "code",
   "execution_count": 23,
   "metadata": {},
   "outputs": [],
   "source": [
    "df1 = pd.DataFrame(list1, columns = ['breachId','email','source'])"
   ]
  },
  {
   "cell_type": "code",
   "execution_count": 24,
   "metadata": {},
   "outputs": [
    {
     "data": {
      "text/html": [
       "<div>\n",
       "<style scoped>\n",
       "    .dataframe tbody tr th:only-of-type {\n",
       "        vertical-align: middle;\n",
       "    }\n",
       "\n",
       "    .dataframe tbody tr th {\n",
       "        vertical-align: top;\n",
       "    }\n",
       "\n",
       "    .dataframe thead th {\n",
       "        text-align: right;\n",
       "    }\n",
       "</style>\n",
       "<table border=\"1\" class=\"dataframe\">\n",
       "  <thead>\n",
       "    <tr style=\"text-align: right;\">\n",
       "      <th></th>\n",
       "      <th>breachId</th>\n",
       "      <th>email</th>\n",
       "      <th>source</th>\n",
       "    </tr>\n",
       "  </thead>\n",
       "  <tbody>\n",
       "    <tr>\n",
       "      <th>0</th>\n",
       "      <td>16372</td>\n",
       "      <td>martynovpeter@gmail.com</td>\n",
       "      <td>bookmate.com</td>\n",
       "    </tr>\n",
       "    <tr>\n",
       "      <th>1</th>\n",
       "      <td>16003</td>\n",
       "      <td>peter.box@yandex.ru</td>\n",
       "      <td>egpet.net</td>\n",
       "    </tr>\n",
       "    <tr>\n",
       "      <th>2</th>\n",
       "      <td>41</td>\n",
       "      <td>peter.box@yandex.ru</td>\n",
       "      <td>dropbox.com</td>\n",
       "    </tr>\n",
       "    <tr>\n",
       "      <th>3</th>\n",
       "      <td>16768</td>\n",
       "      <td>martynovpeter@gmail.com</td>\n",
       "      <td>canva.com</td>\n",
       "    </tr>\n",
       "  </tbody>\n",
       "</table>\n",
       "</div>"
      ],
      "text/plain": [
       "  breachId                    email        source\n",
       "0    16372  martynovpeter@gmail.com  bookmate.com\n",
       "1    16003      peter.box@yandex.ru     egpet.net\n",
       "2       41      peter.box@yandex.ru   dropbox.com\n",
       "3    16768  martynovpeter@gmail.com     canva.com"
      ]
     },
     "execution_count": 24,
     "metadata": {},
     "output_type": "execute_result"
    }
   ],
   "source": [
    "df1"
   ]
  },
  {
   "cell_type": "code",
   "execution_count": 25,
   "metadata": {},
   "outputs": [],
   "source": [
    "list1 = []\n",
    "for key, value in result['breaches'].items():\n",
    "    breachId = str(key)\n",
    "    date = value['publishDate']\n",
    "    description = value['description']\n",
    "    list1 += [[breachId, date, description]]\n",
    "    "
   ]
  },
  {
   "cell_type": "code",
   "execution_count": 26,
   "metadata": {},
   "outputs": [],
   "source": [
    "df2 = pd.DataFrame(list1, columns = ['breachId','date','description'])"
   ]
  },
  {
   "cell_type": "code",
   "execution_count": 27,
   "metadata": {},
   "outputs": [
    {
     "data": {
      "text/html": [
       "<div>\n",
       "<style scoped>\n",
       "    .dataframe tbody tr th:only-of-type {\n",
       "        vertical-align: middle;\n",
       "    }\n",
       "\n",
       "    .dataframe tbody tr th {\n",
       "        vertical-align: top;\n",
       "    }\n",
       "\n",
       "    .dataframe thead th {\n",
       "        text-align: right;\n",
       "    }\n",
       "</style>\n",
       "<table border=\"1\" class=\"dataframe\">\n",
       "  <thead>\n",
       "    <tr style=\"text-align: right;\">\n",
       "      <th></th>\n",
       "      <th>breachId</th>\n",
       "      <th>date</th>\n",
       "      <th>description</th>\n",
       "    </tr>\n",
       "  </thead>\n",
       "  <tbody>\n",
       "    <tr>\n",
       "      <th>0</th>\n",
       "      <td>16372</td>\n",
       "      <td>2019-03-20T00:00:00Z</td>\n",
       "      <td>In July 2018, Bookmate was allegedly breached....</td>\n",
       "    </tr>\n",
       "    <tr>\n",
       "      <th>1</th>\n",
       "      <td>16003</td>\n",
       "      <td>2018-08-15T00:00:00Z</td>\n",
       "      <td>In September 2017, Petroleum Community Forum's...</td>\n",
       "    </tr>\n",
       "    <tr>\n",
       "      <th>2</th>\n",
       "      <td>16768</td>\n",
       "      <td>2019-06-13T00:00:00Z</td>\n",
       "      <td>In May 2019, graphic-design site Canva's datab...</td>\n",
       "    </tr>\n",
       "    <tr>\n",
       "      <th>3</th>\n",
       "      <td>41</td>\n",
       "      <td>2016-10-24T00:00:00Z</td>\n",
       "      <td>Cloud storage company Dropbox suffered a major...</td>\n",
       "    </tr>\n",
       "  </tbody>\n",
       "</table>\n",
       "</div>"
      ],
      "text/plain": [
       "  breachId                  date  \\\n",
       "0    16372  2019-03-20T00:00:00Z   \n",
       "1    16003  2018-08-15T00:00:00Z   \n",
       "2    16768  2019-06-13T00:00:00Z   \n",
       "3       41  2016-10-24T00:00:00Z   \n",
       "\n",
       "                                         description  \n",
       "0  In July 2018, Bookmate was allegedly breached....  \n",
       "1  In September 2017, Petroleum Community Forum's...  \n",
       "2  In May 2019, graphic-design site Canva's datab...  \n",
       "3  Cloud storage company Dropbox suffered a major...  "
      ]
     },
     "execution_count": 27,
     "metadata": {},
     "output_type": "execute_result"
    }
   ],
   "source": [
    "df2"
   ]
  },
  {
   "cell_type": "code",
   "execution_count": 29,
   "metadata": {},
   "outputs": [],
   "source": [
    "df1 = df1.merge(df2, left_on='breachId', right_on='breachId')"
   ]
  },
  {
   "cell_type": "code",
   "execution_count": 31,
   "metadata": {},
   "outputs": [],
   "source": [
    "df1.drop(columns='breachId', axis = 1, inplace = True)"
   ]
  },
  {
   "cell_type": "code",
   "execution_count": 33,
   "metadata": {},
   "outputs": [],
   "source": [
    "columnsTitles=['email','date','source','description']\n",
    "df1=df1.reindex(columns=columnsTitles)"
   ]
  },
  {
   "cell_type": "code",
   "execution_count": 34,
   "metadata": {},
   "outputs": [
    {
     "data": {
      "text/html": [
       "<div>\n",
       "<style scoped>\n",
       "    .dataframe tbody tr th:only-of-type {\n",
       "        vertical-align: middle;\n",
       "    }\n",
       "\n",
       "    .dataframe tbody tr th {\n",
       "        vertical-align: top;\n",
       "    }\n",
       "\n",
       "    .dataframe thead th {\n",
       "        text-align: right;\n",
       "    }\n",
       "</style>\n",
       "<table border=\"1\" class=\"dataframe\">\n",
       "  <thead>\n",
       "    <tr style=\"text-align: right;\">\n",
       "      <th></th>\n",
       "      <th>email</th>\n",
       "      <th>date</th>\n",
       "      <th>source</th>\n",
       "      <th>description</th>\n",
       "    </tr>\n",
       "  </thead>\n",
       "  <tbody>\n",
       "    <tr>\n",
       "      <th>0</th>\n",
       "      <td>martynovpeter@gmail.com</td>\n",
       "      <td>2019-03-20T00:00:00Z</td>\n",
       "      <td>bookmate.com</td>\n",
       "      <td>In July 2018, Bookmate was allegedly breached....</td>\n",
       "    </tr>\n",
       "    <tr>\n",
       "      <th>1</th>\n",
       "      <td>peter.box@yandex.ru</td>\n",
       "      <td>2018-08-15T00:00:00Z</td>\n",
       "      <td>egpet.net</td>\n",
       "      <td>In September 2017, Petroleum Community Forum's...</td>\n",
       "    </tr>\n",
       "    <tr>\n",
       "      <th>2</th>\n",
       "      <td>peter.box@yandex.ru</td>\n",
       "      <td>2016-10-24T00:00:00Z</td>\n",
       "      <td>dropbox.com</td>\n",
       "      <td>Cloud storage company Dropbox suffered a major...</td>\n",
       "    </tr>\n",
       "    <tr>\n",
       "      <th>3</th>\n",
       "      <td>martynovpeter@gmail.com</td>\n",
       "      <td>2019-06-13T00:00:00Z</td>\n",
       "      <td>canva.com</td>\n",
       "      <td>In May 2019, graphic-design site Canva's datab...</td>\n",
       "    </tr>\n",
       "  </tbody>\n",
       "</table>\n",
       "</div>"
      ],
      "text/plain": [
       "                     email                  date        source  \\\n",
       "0  martynovpeter@gmail.com  2019-03-20T00:00:00Z  bookmate.com   \n",
       "1      peter.box@yandex.ru  2018-08-15T00:00:00Z     egpet.net   \n",
       "2      peter.box@yandex.ru  2016-10-24T00:00:00Z   dropbox.com   \n",
       "3  martynovpeter@gmail.com  2019-06-13T00:00:00Z     canva.com   \n",
       "\n",
       "                                         description  \n",
       "0  In July 2018, Bookmate was allegedly breached....  \n",
       "1  In September 2017, Petroleum Community Forum's...  \n",
       "2  Cloud storage company Dropbox suffered a major...  \n",
       "3  In May 2019, graphic-design site Canva's datab...  "
      ]
     },
     "execution_count": 34,
     "metadata": {},
     "output_type": "execute_result"
    }
   ],
   "source": [
    "df1"
   ]
  },
  {
   "cell_type": "markdown",
   "metadata": {},
   "source": [
    "### Дополнительная часть (необязательная)"
   ]
  },
  {
   "cell_type": "markdown",
   "metadata": {},
   "source": [
    "Написать скрипт, который будет получать 50 последних постов указанной группы во Вконтакте.  \n",
    "Документация к API VK: https://vk.com/dev/methods\n",
    ", вам поможет метод [wall.get](https://vk.com/dev/wall.get)  \n",
    "```\n",
    "GROUP = 'netology'  \n",
    "TOKEN = УДАЛЯЙТЕ В ВЕРСИИ ДЛЯ ПРОВЕРКИ, НА GITHUB НЕ ВЫКЛАДЫВАТЬ  \n",
    "```\n",
    "\n",
    "В итоге должен формироваться датафрейм со столбцами: `<дата поста> - <текст поста>`"
   ]
  },
  {
   "cell_type": "code",
   "execution_count": 71,
   "metadata": {},
   "outputs": [],
   "source": [
    "from datetime import datetime"
   ]
  },
  {
   "cell_type": "code",
   "execution_count": 6,
   "metadata": {},
   "outputs": [],
   "source": [
    "TOKEN = ''"
   ]
  },
  {
   "cell_type": "code",
   "execution_count": 15,
   "metadata": {},
   "outputs": [],
   "source": [
    "GROUP = 'netology' \n",
    "VERSION = '5.58'\n",
    "REQUEST = 'https://api.vk.com/method/groups.getById'"
   ]
  },
  {
   "cell_type": "code",
   "execution_count": 16,
   "metadata": {},
   "outputs": [],
   "source": [
    "params = {\n",
    "    'access_token': TOKEN,\n",
    "    'v': VERSION,\n",
    "    'group_id': GROUP\n",
    "}"
   ]
  },
  {
   "cell_type": "code",
   "execution_count": 27,
   "metadata": {},
   "outputs": [
    {
     "data": {
      "text/plain": [
       "<Response [200]>"
      ]
     },
     "execution_count": 27,
     "metadata": {},
     "output_type": "execute_result"
    }
   ],
   "source": [
    "res = requests.get(REQUEST, params)\n",
    "res"
   ]
  },
  {
   "cell_type": "code",
   "execution_count": 28,
   "metadata": {},
   "outputs": [
    {
     "data": {
      "text/plain": [
       "30159897"
      ]
     },
     "execution_count": 28,
     "metadata": {},
     "output_type": "execute_result"
    }
   ],
   "source": [
    "res = res.json()\n",
    "group_id = res['response'][0]['id']\n",
    "group_id"
   ]
  },
  {
   "cell_type": "code",
   "execution_count": 31,
   "metadata": {},
   "outputs": [],
   "source": [
    "REQUEST = 'https://api.vk.com/method/wall.get'"
   ]
  },
  {
   "cell_type": "code",
   "execution_count": 55,
   "metadata": {},
   "outputs": [],
   "source": [
    "params = {\n",
    "    'access_token': TOKEN,\n",
    "    'v': VERSION,\n",
    "    'owner_id': -group_id,\n",
    "    'count': 50\n",
    "}"
   ]
  },
  {
   "cell_type": "code",
   "execution_count": 63,
   "metadata": {},
   "outputs": [
    {
     "data": {
      "text/plain": [
       "<Response [200]>"
      ]
     },
     "execution_count": 63,
     "metadata": {},
     "output_type": "execute_result"
    }
   ],
   "source": [
    "res = requests.get(REQUEST, params)\n",
    "res"
   ]
  },
  {
   "cell_type": "code",
   "execution_count": 64,
   "metadata": {},
   "outputs": [],
   "source": [
    "res = res.json()"
   ]
  },
  {
   "cell_type": "code",
   "execution_count": 66,
   "metadata": {},
   "outputs": [],
   "source": [
    "my_results = res['response']['items']"
   ]
  },
  {
   "cell_type": "code",
   "execution_count": 77,
   "metadata": {},
   "outputs": [],
   "source": [
    "df = pd.DataFrame(my_results)"
   ]
  },
  {
   "cell_type": "code",
   "execution_count": 78,
   "metadata": {},
   "outputs": [],
   "source": [
    "df = df.loc[:, ['date','text']]"
   ]
  },
  {
   "cell_type": "code",
   "execution_count": 80,
   "metadata": {},
   "outputs": [],
   "source": [
    "df['date'] = df.apply(lambda x: datetime.utcfromtimestamp(x['date']).strftime('%Y-%m-%d %H:%M:%S'), axis=1)"
   ]
  },
  {
   "cell_type": "code",
   "execution_count": 81,
   "metadata": {},
   "outputs": [
    {
     "data": {
      "text/html": [
       "<div>\n",
       "<style scoped>\n",
       "    .dataframe tbody tr th:only-of-type {\n",
       "        vertical-align: middle;\n",
       "    }\n",
       "\n",
       "    .dataframe tbody tr th {\n",
       "        vertical-align: top;\n",
       "    }\n",
       "\n",
       "    .dataframe thead th {\n",
       "        text-align: right;\n",
       "    }\n",
       "</style>\n",
       "<table border=\"1\" class=\"dataframe\">\n",
       "  <thead>\n",
       "    <tr style=\"text-align: right;\">\n",
       "      <th></th>\n",
       "      <th>date</th>\n",
       "      <th>text</th>\n",
       "    </tr>\n",
       "  </thead>\n",
       "  <tbody>\n",
       "    <tr>\n",
       "      <th>0</th>\n",
       "      <td>2021-04-14 13:20:03</td>\n",
       "      <td>А у нас конкурс 🎁\\n\\nРазыгрываем сразу 10 приз...</td>\n",
       "    </tr>\n",
       "    <tr>\n",
       "      <th>1</th>\n",
       "      <td>2021-04-24 09:37:00</td>\n",
       "      <td>Управленческие навыки — важные софт-скиллы, ко...</td>\n",
       "    </tr>\n",
       "    <tr>\n",
       "      <th>2</th>\n",
       "      <td>2021-04-23 14:08:00</td>\n",
       "      <td>Чем бы вы ни занимались, важно уметь мыслить к...</td>\n",
       "    </tr>\n",
       "    <tr>\n",
       "      <th>3</th>\n",
       "      <td>2021-04-23 07:37:00</td>\n",
       "      <td>Начать карьеру в дизайне просто, для старта — ...</td>\n",
       "    </tr>\n",
       "    <tr>\n",
       "      <th>4</th>\n",
       "      <td>2021-04-22 15:26:00</td>\n",
       "      <td>Научиться продвигать коммерческий профиль без ...</td>\n",
       "    </tr>\n",
       "    <tr>\n",
       "      <th>5</th>\n",
       "      <td>2021-04-22 08:03:00</td>\n",
       "      <td>Макака играет в видеоигру силой мысли, роботы ...</td>\n",
       "    </tr>\n",
       "    <tr>\n",
       "      <th>6</th>\n",
       "      <td>2021-04-21 13:39:00</td>\n",
       "      <td>Уже 10 лет мы в Нетологии обучаем диджитал-про...</td>\n",
       "    </tr>\n",
       "    <tr>\n",
       "      <th>7</th>\n",
       "      <td>2021-04-21 07:22:00</td>\n",
       "      <td>👉 26 апреля стартует бесплатный курс «Python-р...</td>\n",
       "    </tr>\n",
       "    <tr>\n",
       "      <th>8</th>\n",
       "      <td>2021-04-20 15:20:00</td>\n",
       "      <td>«Я никогда не...» 🤔 \\n \\nНапоминаем об основны...</td>\n",
       "    </tr>\n",
       "    <tr>\n",
       "      <th>9</th>\n",
       "      <td>2021-04-20 07:55:00</td>\n",
       "      <td>Видели фото 360⁰ бытовой техники на М.Видео, п...</td>\n",
       "    </tr>\n",
       "    <tr>\n",
       "      <th>10</th>\n",
       "      <td>2021-04-19 15:29:00</td>\n",
       "      <td>В вузах дают мало практики, а на онлайн-платфо...</td>\n",
       "    </tr>\n",
       "    <tr>\n",
       "      <th>11</th>\n",
       "      <td>2021-04-19 07:21:00</td>\n",
       "      <td>🤫 С 20 апреля стартует бесплатный онлайн-интен...</td>\n",
       "    </tr>\n",
       "    <tr>\n",
       "      <th>12</th>\n",
       "      <td>2021-04-18 11:24:00</td>\n",
       "      <td>Продать помидор под видом сыра, сделать из мух...</td>\n",
       "    </tr>\n",
       "    <tr>\n",
       "      <th>13</th>\n",
       "      <td>2021-04-17 12:01:00</td>\n",
       "      <td>Рейтинг SEO-сервисов, стрим о цифровизации в п...</td>\n",
       "    </tr>\n",
       "    <tr>\n",
       "      <th>14</th>\n",
       "      <td>2021-04-17 09:01:00</td>\n",
       "      <td>Как часто в три часа ночи вы скроллите рекомен...</td>\n",
       "    </tr>\n",
       "    <tr>\n",
       "      <th>15</th>\n",
       "      <td>2021-04-16 14:14:00</td>\n",
       "      <td>*партнёрский пост* \\n\\nУчитесь в приложении и ...</td>\n",
       "    </tr>\n",
       "    <tr>\n",
       "      <th>16</th>\n",
       "      <td>2021-04-16 08:09:00</td>\n",
       "      <td>Собрали подборку бесплатных занятий по копирай...</td>\n",
       "    </tr>\n",
       "    <tr>\n",
       "      <th>17</th>\n",
       "      <td>2021-04-15 14:49:00</td>\n",
       "      <td>Казалось бы, нет офиса — нет проблем 🙃 Но на у...</td>\n",
       "    </tr>\n",
       "    <tr>\n",
       "      <th>18</th>\n",
       "      <td>2021-04-15 07:41:00</td>\n",
       "      <td>Вот такие новости: новые голоса у Siri, исполь...</td>\n",
       "    </tr>\n",
       "    <tr>\n",
       "      <th>19</th>\n",
       "      <td>2021-04-14 07:44:00</td>\n",
       "      <td>Мы верим, что в Data Science может работать ка...</td>\n",
       "    </tr>\n",
       "    <tr>\n",
       "      <th>20</th>\n",
       "      <td>2021-04-13 14:49:00</td>\n",
       "      <td>Excel — как мозг, который мы используем только...</td>\n",
       "    </tr>\n",
       "    <tr>\n",
       "      <th>21</th>\n",
       "      <td>2021-04-13 08:12:00</td>\n",
       "      <td>Анализировать социальные медиа — это не только...</td>\n",
       "    </tr>\n",
       "    <tr>\n",
       "      <th>22</th>\n",
       "      <td>2021-04-12 15:27:00</td>\n",
       "      <td>В Медиа рассказали, каких правил стоит придерж...</td>\n",
       "    </tr>\n",
       "    <tr>\n",
       "      <th>23</th>\n",
       "      <td>2021-04-12 07:31:00</td>\n",
       "      <td>👉 13 апреля стартует бесплатный онлайн-курс «S...</td>\n",
       "    </tr>\n",
       "    <tr>\n",
       "      <th>24</th>\n",
       "      <td>2021-04-11 13:17:00</td>\n",
       "      <td>🎁 Запустили страницу с подарками и скидками от...</td>\n",
       "    </tr>\n",
       "    <tr>\n",
       "      <th>25</th>\n",
       "      <td>2021-04-11 09:56:00</td>\n",
       "      <td>Собрали подборку книг в помощь начинающим веб-...</td>\n",
       "    </tr>\n",
       "    <tr>\n",
       "      <th>26</th>\n",
       "      <td>2021-04-10 14:19:00</td>\n",
       "      <td>*партнёрский пост*\\n\\n12-23 апреля пройдёт Pod...</td>\n",
       "    </tr>\n",
       "    <tr>\n",
       "      <th>27</th>\n",
       "      <td>2021-04-10 10:57:00</td>\n",
       "      <td>Наука о данных незаменима не только в IT, но и...</td>\n",
       "    </tr>\n",
       "    <tr>\n",
       "      <th>28</th>\n",
       "      <td>2021-04-09 14:46:00</td>\n",
       "      <td>В эфире #пятничнаябеседка. Здесь мы обсуждаем,...</td>\n",
       "    </tr>\n",
       "    <tr>\n",
       "      <th>29</th>\n",
       "      <td>2021-04-09 07:31:00</td>\n",
       "      <td>Обсуждаем главные тренды в дизайне, рисуем пер...</td>\n",
       "    </tr>\n",
       "    <tr>\n",
       "      <th>30</th>\n",
       "      <td>2021-04-08 14:57:00</td>\n",
       "      <td>В контент-маркетинге чеклисты — это список зад...</td>\n",
       "    </tr>\n",
       "    <tr>\n",
       "      <th>31</th>\n",
       "      <td>2021-04-08 07:46:00</td>\n",
       "      <td>В новом выпуске НетоNews рассказали про электр...</td>\n",
       "    </tr>\n",
       "    <tr>\n",
       "      <th>32</th>\n",
       "      <td>2021-04-07 14:25:00</td>\n",
       "      <td>В ожидании лета, солнца и тепла давайте немног...</td>\n",
       "    </tr>\n",
       "    <tr>\n",
       "      <th>33</th>\n",
       "      <td>2021-04-07 07:46:00</td>\n",
       "      <td>Покорение космоса подарило нам огромное количе...</td>\n",
       "    </tr>\n",
       "    <tr>\n",
       "      <th>34</th>\n",
       "      <td>2021-04-06 15:07:00</td>\n",
       "      <td>SEO влияет на репутацию и узнаваемость бренда,...</td>\n",
       "    </tr>\n",
       "    <tr>\n",
       "      <th>35</th>\n",
       "      <td>2021-04-06 07:24:00</td>\n",
       "      <td>Вот так история — образовательной платформе Не...</td>\n",
       "    </tr>\n",
       "    <tr>\n",
       "      <th>36</th>\n",
       "      <td>2021-04-05 14:56:00</td>\n",
       "      <td>Если в офисе аврал, а бледный маркетолог и HR-...</td>\n",
       "    </tr>\n",
       "    <tr>\n",
       "      <th>37</th>\n",
       "      <td>2021-04-05 07:16:00</td>\n",
       "      <td>🚀 Запустили бесплатный курс «Основы интернет-м...</td>\n",
       "    </tr>\n",
       "    <tr>\n",
       "      <th>38</th>\n",
       "      <td>2021-04-04 10:52:00</td>\n",
       "      <td>Мы знаем, что найти работу не всегда легко 🤗 \\...</td>\n",
       "    </tr>\n",
       "    <tr>\n",
       "      <th>39</th>\n",
       "      <td>2021-04-03 12:25:00</td>\n",
       "      <td>*партнёрский пост* \\n \\n15 апреля состоится он...</td>\n",
       "    </tr>\n",
       "    <tr>\n",
       "      <th>40</th>\n",
       "      <td>2021-04-03 10:46:00</td>\n",
       "      <td>Чтобы писать красиво, просто и понятно — недос...</td>\n",
       "    </tr>\n",
       "    <tr>\n",
       "      <th>41</th>\n",
       "      <td>2021-04-02 07:18:00</td>\n",
       "      <td>Пишем коды для веб-страниц, осваиваем языки пр...</td>\n",
       "    </tr>\n",
       "    <tr>\n",
       "      <th>42</th>\n",
       "      <td>2021-04-01 15:46:00</td>\n",
       "      <td>Прокрастинация — это когда нужно работать здес...</td>\n",
       "    </tr>\n",
       "    <tr>\n",
       "      <th>43</th>\n",
       "      <td>2021-04-01 08:15:00</td>\n",
       "      <td>Чтобы сменить специальность, нужно признать, ч...</td>\n",
       "    </tr>\n",
       "    <tr>\n",
       "      <th>44</th>\n",
       "      <td>2021-03-31 12:32:32</td>\n",
       "      <td>Разыгрываем 10 доступов к библиотеке видеокурс...</td>\n",
       "    </tr>\n",
       "    <tr>\n",
       "      <th>45</th>\n",
       "      <td>2021-03-31 07:49:00</td>\n",
       "      <td>Кажется, в SMM всё просто: написал пост, ответ...</td>\n",
       "    </tr>\n",
       "    <tr>\n",
       "      <th>46</th>\n",
       "      <td>2021-03-30 14:49:00</td>\n",
       "      <td>В 2020 году сербская художница-перформанистка ...</td>\n",
       "    </tr>\n",
       "    <tr>\n",
       "      <th>47</th>\n",
       "      <td>2021-03-30 07:35:47</td>\n",
       "      <td>В новом выпуске НетоNews рассказали про самые ...</td>\n",
       "    </tr>\n",
       "    <tr>\n",
       "      <th>48</th>\n",
       "      <td>2021-03-29 15:18:00</td>\n",
       "      <td>❌ Бросить попытки после первой неудачи \\n❓Учит...</td>\n",
       "    </tr>\n",
       "    <tr>\n",
       "      <th>49</th>\n",
       "      <td>2021-03-29 07:44:00</td>\n",
       "      <td>Записывайтесь на бесплатный курс «Диджитал-ста...</td>\n",
       "    </tr>\n",
       "  </tbody>\n",
       "</table>\n",
       "</div>"
      ],
      "text/plain": [
       "                   date                                               text\n",
       "0   2021-04-14 13:20:03  А у нас конкурс 🎁\\n\\nРазыгрываем сразу 10 приз...\n",
       "1   2021-04-24 09:37:00  Управленческие навыки — важные софт-скиллы, ко...\n",
       "2   2021-04-23 14:08:00  Чем бы вы ни занимались, важно уметь мыслить к...\n",
       "3   2021-04-23 07:37:00  Начать карьеру в дизайне просто, для старта — ...\n",
       "4   2021-04-22 15:26:00  Научиться продвигать коммерческий профиль без ...\n",
       "5   2021-04-22 08:03:00  Макака играет в видеоигру силой мысли, роботы ...\n",
       "6   2021-04-21 13:39:00  Уже 10 лет мы в Нетологии обучаем диджитал-про...\n",
       "7   2021-04-21 07:22:00  👉 26 апреля стартует бесплатный курс «Python-р...\n",
       "8   2021-04-20 15:20:00  «Я никогда не...» 🤔 \\n \\nНапоминаем об основны...\n",
       "9   2021-04-20 07:55:00  Видели фото 360⁰ бытовой техники на М.Видео, п...\n",
       "10  2021-04-19 15:29:00  В вузах дают мало практики, а на онлайн-платфо...\n",
       "11  2021-04-19 07:21:00  🤫 С 20 апреля стартует бесплатный онлайн-интен...\n",
       "12  2021-04-18 11:24:00  Продать помидор под видом сыра, сделать из мух...\n",
       "13  2021-04-17 12:01:00  Рейтинг SEO-сервисов, стрим о цифровизации в п...\n",
       "14  2021-04-17 09:01:00  Как часто в три часа ночи вы скроллите рекомен...\n",
       "15  2021-04-16 14:14:00  *партнёрский пост* \\n\\nУчитесь в приложении и ...\n",
       "16  2021-04-16 08:09:00  Собрали подборку бесплатных занятий по копирай...\n",
       "17  2021-04-15 14:49:00  Казалось бы, нет офиса — нет проблем 🙃 Но на у...\n",
       "18  2021-04-15 07:41:00  Вот такие новости: новые голоса у Siri, исполь...\n",
       "19  2021-04-14 07:44:00  Мы верим, что в Data Science может работать ка...\n",
       "20  2021-04-13 14:49:00  Excel — как мозг, который мы используем только...\n",
       "21  2021-04-13 08:12:00  Анализировать социальные медиа — это не только...\n",
       "22  2021-04-12 15:27:00  В Медиа рассказали, каких правил стоит придерж...\n",
       "23  2021-04-12 07:31:00  👉 13 апреля стартует бесплатный онлайн-курс «S...\n",
       "24  2021-04-11 13:17:00  🎁 Запустили страницу с подарками и скидками от...\n",
       "25  2021-04-11 09:56:00  Собрали подборку книг в помощь начинающим веб-...\n",
       "26  2021-04-10 14:19:00  *партнёрский пост*\\n\\n12-23 апреля пройдёт Pod...\n",
       "27  2021-04-10 10:57:00  Наука о данных незаменима не только в IT, но и...\n",
       "28  2021-04-09 14:46:00  В эфире #пятничнаябеседка. Здесь мы обсуждаем,...\n",
       "29  2021-04-09 07:31:00  Обсуждаем главные тренды в дизайне, рисуем пер...\n",
       "30  2021-04-08 14:57:00  В контент-маркетинге чеклисты — это список зад...\n",
       "31  2021-04-08 07:46:00  В новом выпуске НетоNews рассказали про электр...\n",
       "32  2021-04-07 14:25:00  В ожидании лета, солнца и тепла давайте немног...\n",
       "33  2021-04-07 07:46:00  Покорение космоса подарило нам огромное количе...\n",
       "34  2021-04-06 15:07:00  SEO влияет на репутацию и узнаваемость бренда,...\n",
       "35  2021-04-06 07:24:00  Вот так история — образовательной платформе Не...\n",
       "36  2021-04-05 14:56:00  Если в офисе аврал, а бледный маркетолог и HR-...\n",
       "37  2021-04-05 07:16:00  🚀 Запустили бесплатный курс «Основы интернет-м...\n",
       "38  2021-04-04 10:52:00  Мы знаем, что найти работу не всегда легко 🤗 \\...\n",
       "39  2021-04-03 12:25:00  *партнёрский пост* \\n \\n15 апреля состоится он...\n",
       "40  2021-04-03 10:46:00  Чтобы писать красиво, просто и понятно — недос...\n",
       "41  2021-04-02 07:18:00  Пишем коды для веб-страниц, осваиваем языки пр...\n",
       "42  2021-04-01 15:46:00  Прокрастинация — это когда нужно работать здес...\n",
       "43  2021-04-01 08:15:00  Чтобы сменить специальность, нужно признать, ч...\n",
       "44  2021-03-31 12:32:32  Разыгрываем 10 доступов к библиотеке видеокурс...\n",
       "45  2021-03-31 07:49:00  Кажется, в SMM всё просто: написал пост, ответ...\n",
       "46  2021-03-30 14:49:00  В 2020 году сербская художница-перформанистка ...\n",
       "47  2021-03-30 07:35:47  В новом выпуске НетоNews рассказали про самые ...\n",
       "48  2021-03-29 15:18:00  ❌ Бросить попытки после первой неудачи \\n❓Учит...\n",
       "49  2021-03-29 07:44:00  Записывайтесь на бесплатный курс «Диджитал-ста..."
      ]
     },
     "execution_count": 81,
     "metadata": {},
     "output_type": "execute_result"
    }
   ],
   "source": [
    "df"
   ]
  }
 ],
 "metadata": {
  "kernelspec": {
   "display_name": "Python 3",
   "language": "python",
   "name": "python3"
  },
  "language_info": {
   "codemirror_mode": {
    "name": "ipython",
    "version": 3
   },
   "file_extension": ".py",
   "mimetype": "text/x-python",
   "name": "python",
   "nbconvert_exporter": "python",
   "pygments_lexer": "ipython3",
   "version": "3.8.3"
  }
 },
 "nbformat": 4,
 "nbformat_minor": 2
}
