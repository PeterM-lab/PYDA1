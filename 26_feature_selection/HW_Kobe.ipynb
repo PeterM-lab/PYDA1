{
 "cells": [
  {
   "cell_type": "code",
   "execution_count": 133,
   "metadata": {
    "id": "zqHdTz2wPPKW"
   },
   "outputs": [],
   "source": [
    "import pandas as pd\n",
    "import numpy as np\n",
    "import seaborn as sns\n",
    "import matplotlib.pyplot as plt\n",
    "%matplotlib inline"
   ]
  },
  {
   "cell_type": "code",
   "execution_count": 245,
   "metadata": {},
   "outputs": [],
   "source": [
    "import warnings\n",
    "warnings.filterwarnings('ignore')"
   ]
  },
  {
   "cell_type": "markdown",
   "metadata": {
    "id": "lvM0J0AaPPKc"
   },
   "source": [
    "## Kobe Bryant  shot selection"
   ]
  },
  {
   "cell_type": "markdown",
   "metadata": {
    "id": "hVjPZ_ukPPKc"
   },
   "source": [
    "Cсылка на соревнование: https://www.kaggle.com/c/kobe-bryant-shot-selection"
   ]
  },
  {
   "cell_type": "markdown",
   "metadata": {
    "id": "qgn5s7NFPPKd"
   },
   "source": [
    "Goal: Fun and education"
   ]
  },
  {
   "cell_type": "markdown",
   "metadata": {
    "id": "4bIkh2ACPPKd"
   },
   "source": [
    "Using 20 years of data on Kobe's swishes and misses, can you predict which shots will find the bottom of the net? This competition is well suited for practicing classification basics, feature engineering, and time series analysis. Practice got Kobe an eight-figure contract and 5 championship rings. What will it get you?"
   ]
  },
  {
   "cell_type": "markdown",
   "metadata": {
    "id": "JYgEsdafPPKd"
   },
   "source": [
    "This data contains the location and circumstances of every field goal attempted by Kobe Bryant took during his 20-year career. Your task is to predict whether the basket went in (shot_made_flag).\n",
    "\n",
    "We have removed 5000 of the shot_made_flags (represented as missing values in the csv file). These are the test set shots for which you must submit a prediction. You are provided a sample submission file with the correct shot_ids needed for a valid prediction."
   ]
  },
  {
   "cell_type": "code",
   "execution_count": 562,
   "metadata": {
    "id": "LVq90rI-PPKe"
   },
   "outputs": [],
   "source": [
    "data = pd.read_csv('Kobe.csv')"
   ]
  },
  {
   "cell_type": "code",
   "execution_count": 563,
   "metadata": {
    "id": "S6q19ap7PPKe",
    "outputId": "54cc12f8-335a-40d1-c820-b3030b3129af"
   },
   "outputs": [
    {
     "data": {
      "text/html": [
       "<div>\n",
       "<style scoped>\n",
       "    .dataframe tbody tr th:only-of-type {\n",
       "        vertical-align: middle;\n",
       "    }\n",
       "\n",
       "    .dataframe tbody tr th {\n",
       "        vertical-align: top;\n",
       "    }\n",
       "\n",
       "    .dataframe thead th {\n",
       "        text-align: right;\n",
       "    }\n",
       "</style>\n",
       "<table border=\"1\" class=\"dataframe\">\n",
       "  <thead>\n",
       "    <tr style=\"text-align: right;\">\n",
       "      <th></th>\n",
       "      <th>action_type</th>\n",
       "      <th>combined_shot_type</th>\n",
       "      <th>game_event_id</th>\n",
       "      <th>game_id</th>\n",
       "      <th>lat</th>\n",
       "      <th>loc_x</th>\n",
       "      <th>loc_y</th>\n",
       "      <th>lon</th>\n",
       "      <th>minutes_remaining</th>\n",
       "      <th>period</th>\n",
       "      <th>...</th>\n",
       "      <th>shot_type</th>\n",
       "      <th>shot_zone_area</th>\n",
       "      <th>shot_zone_basic</th>\n",
       "      <th>shot_zone_range</th>\n",
       "      <th>team_id</th>\n",
       "      <th>team_name</th>\n",
       "      <th>game_date</th>\n",
       "      <th>matchup</th>\n",
       "      <th>opponent</th>\n",
       "      <th>shot_id</th>\n",
       "    </tr>\n",
       "  </thead>\n",
       "  <tbody>\n",
       "    <tr>\n",
       "      <th>0</th>\n",
       "      <td>Jump Shot</td>\n",
       "      <td>Jump Shot</td>\n",
       "      <td>10</td>\n",
       "      <td>20000012</td>\n",
       "      <td>33.9723</td>\n",
       "      <td>167</td>\n",
       "      <td>72</td>\n",
       "      <td>-118.1028</td>\n",
       "      <td>10</td>\n",
       "      <td>1</td>\n",
       "      <td>...</td>\n",
       "      <td>2PT Field Goal</td>\n",
       "      <td>Right Side(R)</td>\n",
       "      <td>Mid-Range</td>\n",
       "      <td>16-24 ft.</td>\n",
       "      <td>1610612747</td>\n",
       "      <td>Los Angeles Lakers</td>\n",
       "      <td>2000-10-31</td>\n",
       "      <td>LAL @ POR</td>\n",
       "      <td>POR</td>\n",
       "      <td>1</td>\n",
       "    </tr>\n",
       "    <tr>\n",
       "      <th>1</th>\n",
       "      <td>Jump Shot</td>\n",
       "      <td>Jump Shot</td>\n",
       "      <td>12</td>\n",
       "      <td>20000012</td>\n",
       "      <td>34.0443</td>\n",
       "      <td>-157</td>\n",
       "      <td>0</td>\n",
       "      <td>-118.4268</td>\n",
       "      <td>10</td>\n",
       "      <td>1</td>\n",
       "      <td>...</td>\n",
       "      <td>2PT Field Goal</td>\n",
       "      <td>Left Side(L)</td>\n",
       "      <td>Mid-Range</td>\n",
       "      <td>8-16 ft.</td>\n",
       "      <td>1610612747</td>\n",
       "      <td>Los Angeles Lakers</td>\n",
       "      <td>2000-10-31</td>\n",
       "      <td>LAL @ POR</td>\n",
       "      <td>POR</td>\n",
       "      <td>2</td>\n",
       "    </tr>\n",
       "    <tr>\n",
       "      <th>2</th>\n",
       "      <td>Jump Shot</td>\n",
       "      <td>Jump Shot</td>\n",
       "      <td>35</td>\n",
       "      <td>20000012</td>\n",
       "      <td>33.9093</td>\n",
       "      <td>-101</td>\n",
       "      <td>135</td>\n",
       "      <td>-118.3708</td>\n",
       "      <td>7</td>\n",
       "      <td>1</td>\n",
       "      <td>...</td>\n",
       "      <td>2PT Field Goal</td>\n",
       "      <td>Left Side Center(LC)</td>\n",
       "      <td>Mid-Range</td>\n",
       "      <td>16-24 ft.</td>\n",
       "      <td>1610612747</td>\n",
       "      <td>Los Angeles Lakers</td>\n",
       "      <td>2000-10-31</td>\n",
       "      <td>LAL @ POR</td>\n",
       "      <td>POR</td>\n",
       "      <td>3</td>\n",
       "    </tr>\n",
       "    <tr>\n",
       "      <th>3</th>\n",
       "      <td>Jump Shot</td>\n",
       "      <td>Jump Shot</td>\n",
       "      <td>43</td>\n",
       "      <td>20000012</td>\n",
       "      <td>33.8693</td>\n",
       "      <td>138</td>\n",
       "      <td>175</td>\n",
       "      <td>-118.1318</td>\n",
       "      <td>6</td>\n",
       "      <td>1</td>\n",
       "      <td>...</td>\n",
       "      <td>2PT Field Goal</td>\n",
       "      <td>Right Side Center(RC)</td>\n",
       "      <td>Mid-Range</td>\n",
       "      <td>16-24 ft.</td>\n",
       "      <td>1610612747</td>\n",
       "      <td>Los Angeles Lakers</td>\n",
       "      <td>2000-10-31</td>\n",
       "      <td>LAL @ POR</td>\n",
       "      <td>POR</td>\n",
       "      <td>4</td>\n",
       "    </tr>\n",
       "    <tr>\n",
       "      <th>4</th>\n",
       "      <td>Driving Dunk Shot</td>\n",
       "      <td>Dunk</td>\n",
       "      <td>155</td>\n",
       "      <td>20000012</td>\n",
       "      <td>34.0443</td>\n",
       "      <td>0</td>\n",
       "      <td>0</td>\n",
       "      <td>-118.2698</td>\n",
       "      <td>6</td>\n",
       "      <td>2</td>\n",
       "      <td>...</td>\n",
       "      <td>2PT Field Goal</td>\n",
       "      <td>Center(C)</td>\n",
       "      <td>Restricted Area</td>\n",
       "      <td>Less Than 8 ft.</td>\n",
       "      <td>1610612747</td>\n",
       "      <td>Los Angeles Lakers</td>\n",
       "      <td>2000-10-31</td>\n",
       "      <td>LAL @ POR</td>\n",
       "      <td>POR</td>\n",
       "      <td>5</td>\n",
       "    </tr>\n",
       "  </tbody>\n",
       "</table>\n",
       "<p>5 rows × 25 columns</p>\n",
       "</div>"
      ],
      "text/plain": [
       "         action_type combined_shot_type  game_event_id   game_id      lat  \\\n",
       "0          Jump Shot          Jump Shot             10  20000012  33.9723   \n",
       "1          Jump Shot          Jump Shot             12  20000012  34.0443   \n",
       "2          Jump Shot          Jump Shot             35  20000012  33.9093   \n",
       "3          Jump Shot          Jump Shot             43  20000012  33.8693   \n",
       "4  Driving Dunk Shot               Dunk            155  20000012  34.0443   \n",
       "\n",
       "   loc_x  loc_y       lon  minutes_remaining  period  ...       shot_type  \\\n",
       "0    167     72 -118.1028                 10       1  ...  2PT Field Goal   \n",
       "1   -157      0 -118.4268                 10       1  ...  2PT Field Goal   \n",
       "2   -101    135 -118.3708                  7       1  ...  2PT Field Goal   \n",
       "3    138    175 -118.1318                  6       1  ...  2PT Field Goal   \n",
       "4      0      0 -118.2698                  6       2  ...  2PT Field Goal   \n",
       "\n",
       "          shot_zone_area  shot_zone_basic  shot_zone_range     team_id  \\\n",
       "0          Right Side(R)        Mid-Range        16-24 ft.  1610612747   \n",
       "1           Left Side(L)        Mid-Range         8-16 ft.  1610612747   \n",
       "2   Left Side Center(LC)        Mid-Range        16-24 ft.  1610612747   \n",
       "3  Right Side Center(RC)        Mid-Range        16-24 ft.  1610612747   \n",
       "4              Center(C)  Restricted Area  Less Than 8 ft.  1610612747   \n",
       "\n",
       "            team_name   game_date    matchup opponent  shot_id  \n",
       "0  Los Angeles Lakers  2000-10-31  LAL @ POR      POR        1  \n",
       "1  Los Angeles Lakers  2000-10-31  LAL @ POR      POR        2  \n",
       "2  Los Angeles Lakers  2000-10-31  LAL @ POR      POR        3  \n",
       "3  Los Angeles Lakers  2000-10-31  LAL @ POR      POR        4  \n",
       "4  Los Angeles Lakers  2000-10-31  LAL @ POR      POR        5  \n",
       "\n",
       "[5 rows x 25 columns]"
      ]
     },
     "execution_count": 563,
     "metadata": {},
     "output_type": "execute_result"
    }
   ],
   "source": [
    "data.head()"
   ]
  },
  {
   "cell_type": "code",
   "execution_count": 224,
   "metadata": {
    "id": "mRhHolq9PPKf"
   },
   "outputs": [],
   "source": [
    "target = 'shot_made_flag'"
   ]
  },
  {
   "cell_type": "code",
   "execution_count": 564,
   "metadata": {},
   "outputs": [
    {
     "name": "stdout",
     "output_type": "stream",
     "text": [
      "<class 'pandas.core.frame.DataFrame'>\n",
      "RangeIndex: 30697 entries, 0 to 30696\n",
      "Data columns (total 25 columns):\n",
      " #   Column              Non-Null Count  Dtype  \n",
      "---  ------              --------------  -----  \n",
      " 0   action_type         30697 non-null  object \n",
      " 1   combined_shot_type  30697 non-null  object \n",
      " 2   game_event_id       30697 non-null  int64  \n",
      " 3   game_id             30697 non-null  int64  \n",
      " 4   lat                 30697 non-null  float64\n",
      " 5   loc_x               30697 non-null  int64  \n",
      " 6   loc_y               30697 non-null  int64  \n",
      " 7   lon                 30697 non-null  float64\n",
      " 8   minutes_remaining   30697 non-null  int64  \n",
      " 9   period              30697 non-null  int64  \n",
      " 10  playoffs            30697 non-null  int64  \n",
      " 11  season              30697 non-null  object \n",
      " 12  seconds_remaining   30697 non-null  int64  \n",
      " 13  shot_distance       30697 non-null  int64  \n",
      " 14  shot_made_flag      25697 non-null  float64\n",
      " 15  shot_type           30697 non-null  object \n",
      " 16  shot_zone_area      30697 non-null  object \n",
      " 17  shot_zone_basic     30697 non-null  object \n",
      " 18  shot_zone_range     30697 non-null  object \n",
      " 19  team_id             30697 non-null  int64  \n",
      " 20  team_name           30697 non-null  object \n",
      " 21  game_date           30697 non-null  object \n",
      " 22  matchup             30697 non-null  object \n",
      " 23  opponent            30697 non-null  object \n",
      " 24  shot_id             30697 non-null  int64  \n",
      "dtypes: float64(3), int64(11), object(11)\n",
      "memory usage: 5.9+ MB\n"
     ]
    }
   ],
   "source": [
    "data.info()"
   ]
  },
  {
   "cell_type": "markdown",
   "metadata": {
    "id": "QthCIdDVPPKf"
   },
   "source": [
    "# **Задания:**\n",
    "\n",
    "1. Провести анализ данных. Много хороших примеров анализа можно посмотреть здесь https://www.kaggle.com/c/kobe-bryant-shot-selection/kernels\n",
    "2. Подготовить фичи для обучения модели - нагенерить признаков, обработать пропущенные значения, проверить на возможные выбросы, обработать категориальные признаки и др.\n",
    "3. Обучить линейную модель, Lasso, Ridge (с встроеной регуляризацией) на тех же признаках - построить сравнительную таблицу или график коэффициентов, сделать заключения о том, как меняется величина коэффициентов, какие зануляются. \n",
    "\n",
    "**Дополнительно**\n",
    "4. Сравнить результаты на тестовом наборе данных - сделать train_test_split в самом начале, подготовить переменные, сравнить результаты работы классификаторов (те же 3), метрика ROC AUC\n",
    "5. Построить PCA на подготовленных признаках, посмотреть, какие компоненты составляют наибольшую часть дисперсии целевой переменной"
   ]
  },
  {
   "cell_type": "code",
   "execution_count": 226,
   "metadata": {
    "id": "IcdHTiXxP5al"
   },
   "outputs": [
    {
     "data": {
      "text/plain": [
       "array([nan,  0.,  1.])"
      ]
     },
     "execution_count": 226,
     "metadata": {},
     "output_type": "execute_result"
    }
   ],
   "source": [
    "data['shot_made_flag'].unique()"
   ]
  },
  {
   "cell_type": "code",
   "execution_count": 227,
   "metadata": {},
   "outputs": [],
   "source": [
    "data.dropna(subset=['shot_made_flag'],inplace = True)"
   ]
  },
  {
   "cell_type": "code",
   "execution_count": 228,
   "metadata": {},
   "outputs": [],
   "source": [
    "# Добавляем несколько временных столбцов к данным\n",
    "data['game_date_DT'] = pd.to_datetime(data['game_date'])\n",
    "\n",
    "data['dayOfWeek'] = data['game_date_DT'].dt.dayofweek\n",
    "data['dayOfYear'] = data['game_date_DT'].dt.dayofyear\n",
    "data['month'] = data['game_date_DT'].dt.month\n",
    "data['year'] = data['game_date_DT'].dt.year\n",
    "data['quarter'] = data['game_date_DT'].dt.quarter\n",
    "\n",
    "data['secondsFromPeriodEnd']   = 60*data['minutes_remaining']+data['seconds_remaining']\n",
    "data['secondsFromPeriodStart'] = 60*(11-data['minutes_remaining'])+(60-data['seconds_remaining'])\n",
    "data['secondsFromGameStart']   = (data['period'] <= 4).astype(int) * (data['period'] - 1) * 12 * 60 + (data['period'] > 4).astype(int) * ((data['period'] - 4) * 5 * 60 + 3 * 12 * 60) + data['secondsFromPeriodStart']"
   ]
  },
  {
   "cell_type": "code",
   "execution_count": 229,
   "metadata": {},
   "outputs": [],
   "source": [
    "#удалим ненужные параметры\n",
    "data.drop(['game_event_id',\n",
    "        'game_id',\n",
    "        'season',\n",
    "        'team_id',\n",
    "        'team_name',\n",
    "        'matchup',\n",
    "        'shot_id',\n",
    "        'game_date',\n",
    "        'minutes_remaining',\n",
    "        'seconds_remaining',\n",
    "        'game_date_DT',\n",
    "        'action_type',\n",
    "        'opponent'], axis = 1, inplace = True)"
   ]
  },
  {
   "cell_type": "code",
   "execution_count": 230,
   "metadata": {},
   "outputs": [
    {
     "data": {
      "text/plain": [
       "['lat',\n",
       " 'loc_x',\n",
       " 'loc_y',\n",
       " 'lon',\n",
       " 'period',\n",
       " 'shot_distance',\n",
       " 'dayOfWeek',\n",
       " 'dayOfYear',\n",
       " 'month',\n",
       " 'year',\n",
       " 'quarter',\n",
       " 'secondsFromPeriodEnd',\n",
       " 'secondsFromPeriodStart',\n",
       " 'secondsFromGameStart']"
      ]
     },
     "execution_count": 230,
     "metadata": {},
     "output_type": "execute_result"
    }
   ],
   "source": [
    "#числовые переменные\n",
    "columns_non_objects = list(data.select_dtypes(exclude = object).columns)\n",
    "for i in ['playoffs','shot_made_flag']:\n",
    "    columns_non_objects.remove(i)\n",
    "columns_non_objects"
   ]
  },
  {
   "cell_type": "code",
   "execution_count": 231,
   "metadata": {},
   "outputs": [
    {
     "data": {
      "text/plain": [
       "<AxesSubplot:xlabel='period'>"
      ]
     },
     "execution_count": 231,
     "metadata": {},
     "output_type": "execute_result"
    },
    {
     "data": {
      "image/png": "[encoded data removed]",
      "text/plain": [
       "<Figure size 432x288 with 1 Axes>"
      ]
     },
     "metadata": {
      "needs_background": "light"
     },
     "output_type": "display_data"
    }
   ],
   "source": [
    "sns.boxplot(x=data['period'])"
   ]
  },
  {
   "cell_type": "code",
   "execution_count": 232,
   "metadata": {},
   "outputs": [],
   "source": [
    "#удалим выброс\n",
    "data = data[data['period'] != 7]"
   ]
  },
  {
   "cell_type": "code",
   "execution_count": 233,
   "metadata": {},
   "outputs": [],
   "source": [
    "#применим OneHotEncoder к категориальным переменным\n",
    "\n",
    "data1 = data.select_dtypes(exclude = object)\n",
    "data2 = pd.get_dummies(data.select_dtypes(include = object))\n",
    "data = pd.concat([data1, data2], axis = 1)"
   ]
  },
  {
   "cell_type": "code",
   "execution_count": 234,
   "metadata": {},
   "outputs": [
    {
     "name": "stdout",
     "output_type": "stream",
     "text": [
      "<class 'pandas.core.frame.DataFrame'>\n",
      "Int64Index: 25690 entries, 1 to 30696\n",
      "Data columns (total 42 columns):\n",
      " #   Column                                 Non-Null Count  Dtype  \n",
      "---  ------                                 --------------  -----  \n",
      " 0   lat                                    25690 non-null  float64\n",
      " 1   loc_x                                  25690 non-null  int64  \n",
      " 2   loc_y                                  25690 non-null  int64  \n",
      " 3   lon                                    25690 non-null  float64\n",
      " 4   period                                 25690 non-null  int64  \n",
      " 5   playoffs                               25690 non-null  int64  \n",
      " 6   shot_distance                          25690 non-null  int64  \n",
      " 7   shot_made_flag                         25690 non-null  float64\n",
      " 8   dayOfWeek                              25690 non-null  int64  \n",
      " 9   dayOfYear                              25690 non-null  int64  \n",
      " 10  month                                  25690 non-null  int64  \n",
      " 11  year                                   25690 non-null  int64  \n",
      " 12  quarter                                25690 non-null  int64  \n",
      " 13  secondsFromPeriodEnd                   25690 non-null  int64  \n",
      " 14  secondsFromPeriodStart                 25690 non-null  int64  \n",
      " 15  secondsFromGameStart                   25690 non-null  int64  \n",
      " 16  combined_shot_type_Bank Shot           25690 non-null  uint8  \n",
      " 17  combined_shot_type_Dunk                25690 non-null  uint8  \n",
      " 18  combined_shot_type_Hook Shot           25690 non-null  uint8  \n",
      " 19  combined_shot_type_Jump Shot           25690 non-null  uint8  \n",
      " 20  combined_shot_type_Layup               25690 non-null  uint8  \n",
      " 21  combined_shot_type_Tip Shot            25690 non-null  uint8  \n",
      " 22  shot_type_2PT Field Goal               25690 non-null  uint8  \n",
      " 23  shot_type_3PT Field Goal               25690 non-null  uint8  \n",
      " 24  shot_zone_area_Back Court(BC)          25690 non-null  uint8  \n",
      " 25  shot_zone_area_Center(C)               25690 non-null  uint8  \n",
      " 26  shot_zone_area_Left Side Center(LC)    25690 non-null  uint8  \n",
      " 27  shot_zone_area_Left Side(L)            25690 non-null  uint8  \n",
      " 28  shot_zone_area_Right Side Center(RC)   25690 non-null  uint8  \n",
      " 29  shot_zone_area_Right Side(R)           25690 non-null  uint8  \n",
      " 30  shot_zone_basic_Above the Break 3      25690 non-null  uint8  \n",
      " 31  shot_zone_basic_Backcourt              25690 non-null  uint8  \n",
      " 32  shot_zone_basic_In The Paint (Non-RA)  25690 non-null  uint8  \n",
      " 33  shot_zone_basic_Left Corner 3          25690 non-null  uint8  \n",
      " 34  shot_zone_basic_Mid-Range              25690 non-null  uint8  \n",
      " 35  shot_zone_basic_Restricted Area        25690 non-null  uint8  \n",
      " 36  shot_zone_basic_Right Corner 3         25690 non-null  uint8  \n",
      " 37  shot_zone_range_16-24 ft.              25690 non-null  uint8  \n",
      " 38  shot_zone_range_24+ ft.                25690 non-null  uint8  \n",
      " 39  shot_zone_range_8-16 ft.               25690 non-null  uint8  \n",
      " 40  shot_zone_range_Back Court Shot        25690 non-null  uint8  \n",
      " 41  shot_zone_range_Less Than 8 ft.        25690 non-null  uint8  \n",
      "dtypes: float64(3), int64(13), uint8(26)\n",
      "memory usage: 4.0 MB\n"
     ]
    }
   ],
   "source": [
    "data.info()"
   ]
  },
  {
   "cell_type": "code",
   "execution_count": 235,
   "metadata": {},
   "outputs": [],
   "source": [
    "X = data.drop('shot_made_flag', axis = 1)"
   ]
  },
  {
   "cell_type": "code",
   "execution_count": 236,
   "metadata": {},
   "outputs": [],
   "source": [
    "y = data['shot_made_flag']"
   ]
  },
  {
   "cell_type": "code",
   "execution_count": 240,
   "metadata": {},
   "outputs": [],
   "source": [
    "from sklearn.preprocessing import StandardScaler\n",
    "scaler = StandardScaler()"
   ]
  },
  {
   "cell_type": "code",
   "execution_count": 286,
   "metadata": {},
   "outputs": [],
   "source": [
    "#нормализуем данные\n",
    "X1 = X.copy()\n",
    "scaler.fit(X1[columns_non_objects])\n",
    "X1[columns_non_objects] = scaler.transform(X1[columns_non_objects])"
   ]
  },
  {
   "cell_type": "code",
   "execution_count": 288,
   "metadata": {},
   "outputs": [],
   "source": [
    "from sklearn.decomposition import PCA"
   ]
  },
  {
   "cell_type": "code",
   "execution_count": null,
   "metadata": {},
   "outputs": [],
   "source": [
    "#проверим важность параметров\n",
    "pca = PCA()\n",
    "x_new = pca.fit_transform(X1)\n",
    "\n",
    "ex_var = pca.explained_variance_ratio_.cumsum()"
   ]
  },
  {
   "cell_type": "code",
   "execution_count": 374,
   "metadata": {},
   "outputs": [],
   "source": [
    "# рассмотрим новые признаки которые объясняют 95 процентов старых\n",
    "mask = (ex_var <= 0.95) \n",
    "len_np = len(ex_var[mask])\n",
    "len_np\n",
    "\n",
    "comp_imp = abs(pca.components_)[:len_np]"
   ]
  },
  {
   "cell_type": "code",
   "execution_count": 377,
   "metadata": {},
   "outputs": [],
   "source": [
    "#перемножим важность новых признаков на важность влияния старых признаков на новые признаки\n",
    "for i in range(len_np):\n",
    "    comp_imp[i] = comp_imp[i] * pca.explained_variance_ratio_[i]\n",
    "\n",
    "#сложим баллы\n",
    "df_imp = pd.DataFrame(sum(comp_imp))\n",
    "\n",
    "df_imp['feature_name'] = list(X1.columns)"
   ]
  },
  {
   "cell_type": "code",
   "execution_count": 441,
   "metadata": {},
   "outputs": [
    {
     "data": {
      "text/plain": [
       "['secondsFromPeriodEnd',\n",
       " 'secondsFromPeriodStart',\n",
       " 'secondsFromGameStart',\n",
       " 'loc_y',\n",
       " 'lat',\n",
       " 'period',\n",
       " 'shot_distance',\n",
       " 'lon',\n",
       " 'loc_x',\n",
       " 'month',\n",
       " 'dayOfYear',\n",
       " 'quarter',\n",
       " 'year',\n",
       " 'dayOfWeek',\n",
       " 'shot_zone_range_Less Than 8 ft.',\n",
       " 'shot_zone_area_Center(C)',\n",
       " 'shot_zone_basic_Restricted Area',\n",
       " 'combined_shot_type_Jump Shot',\n",
       " 'shot_type_3PT Field Goal',\n",
       " 'shot_type_2PT Field Goal',\n",
       " 'shot_zone_range_24+ ft.',\n",
       " 'shot_zone_basic_Above the Break 3',\n",
       " 'shot_zone_basic_Mid-Range',\n",
       " 'shot_zone_range_16-24 ft.',\n",
       " 'combined_shot_type_Layup',\n",
       " 'shot_zone_area_Right Side Center(RC)',\n",
       " 'shot_zone_area_Right Side(R)',\n",
       " 'shot_zone_area_Left Side Center(LC)',\n",
       " 'shot_zone_area_Left Side(L)',\n",
       " 'shot_zone_range_8-16 ft.',\n",
       " 'shot_zone_basic_In The Paint (Non-RA)',\n",
       " 'combined_shot_type_Dunk',\n",
       " 'playoffs',\n",
       " 'shot_zone_basic_Right Corner 3',\n",
       " 'shot_zone_basic_Left Corner 3',\n",
       " 'shot_zone_area_Back Court(BC)',\n",
       " 'shot_zone_range_Back Court Shot',\n",
       " 'shot_zone_basic_Backcourt',\n",
       " 'combined_shot_type_Tip Shot',\n",
       " 'combined_shot_type_Bank Shot',\n",
       " 'combined_shot_type_Hook Shot']"
      ]
     },
     "execution_count": 441,
     "metadata": {},
     "output_type": "execute_result"
    }
   ],
   "source": [
    "#выжные признаки по убыванию\n",
    "\n",
    "col_imp = list(df_imp.sort_values(0, ascending = False)['feature_name'])\n",
    "col_imp"
   ]
  },
  {
   "cell_type": "code",
   "execution_count": 406,
   "metadata": {},
   "outputs": [],
   "source": [
    "from sklearn.model_selection import train_test_split\n",
    "X_train, X_test, y_train, y_test = train_test_split(X, y, test_size=0.3, random_state=0)"
   ]
  },
  {
   "cell_type": "code",
   "execution_count": 408,
   "metadata": {},
   "outputs": [],
   "source": [
    "#нормализуем данные\n",
    "scaler.fit(X_train[columns_non_objects])\n",
    "X_train[columns_non_objects] = scaler.transform(X_train[columns_non_objects])\n",
    "X_test[columns_non_objects] = scaler.transform(X_test[columns_non_objects])"
   ]
  },
  {
   "cell_type": "code",
   "execution_count": 261,
   "metadata": {},
   "outputs": [],
   "source": [
    "from sklearn.metrics import roc_auc_score"
   ]
  },
  {
   "cell_type": "code",
   "execution_count": 542,
   "metadata": {},
   "outputs": [],
   "source": [
    "def graph_reg(X_train, X_test, y_train, y_test, model):\n",
    "    list_l=list(2**np.linspace(-20,20,200))\n",
    "    lg_l,pred_l,score = [], [], []\n",
    "\n",
    "    for i in range(len(list_l)):\n",
    "        m_l = model(alpha=list_l[i]).fit(X_train, y_train)\n",
    "        sc = roc_auc_score(y_test, m_l.predict(X_test))\n",
    "        lg_l.append(m_l)\n",
    "        pred_l.append(m_l.coef_)\n",
    "        score.append(sc)\n",
    "\n",
    "    plt.figure(figsize=[12,4])\n",
    "    x_l = np.linspace(0,len(pred_l),len(pred_l))\n",
    "    for i in np.vstack(pred_l).T:\n",
    "        plt.plot(x_l,i)     \n",
    "    plt.grid() \n",
    "\n",
    "    maxs = max(score)\n",
    "    maxi = score.index(max(score))\n",
    "    df_feat = pd.DataFrame(np.vstack(pred_l).T)\n",
    "    df_feat['feat_name'] = list(X_train.columns)\n",
    "    \n",
    "\n",
    "    print(f'max_score {round(maxs,4)}, alpha {list_l[maxi]}')\n",
    "    \n",
    "    par_to_use = list(df_feat[df_feat[maxi] != 0]['feat_name'])\n",
    "    \n",
    "    print(f'использовал параметры {len(par_to_use)} из {len(list(X_train.columns))}')\n",
    "    print('оставил параметры:')\n",
    "    print(par_to_use)"
   ]
  },
  {
   "cell_type": "code",
   "execution_count": 543,
   "metadata": {},
   "outputs": [],
   "source": [
    "from sklearn.linear_model import Lasso"
   ]
  },
  {
   "cell_type": "code",
   "execution_count": 544,
   "metadata": {},
   "outputs": [
    {
     "name": "stdout",
     "output_type": "stream",
     "text": [
      "max_score 0.6267, alpha 0.00014378301728388846\n",
      "использовал параметры 29 из 41\n",
      "оставил параметры:\n",
      "['lat', 'loc_x', 'loc_y', 'lon', 'period', 'playoffs', 'shot_distance', 'dayOfWeek', 'dayOfYear', 'year', 'quarter', 'secondsFromPeriodEnd', 'secondsFromPeriodStart', 'secondsFromGameStart', 'combined_shot_type_Bank Shot', 'combined_shot_type_Dunk', 'combined_shot_type_Hook Shot', 'combined_shot_type_Jump Shot', 'combined_shot_type_Layup', 'combined_shot_type_Tip Shot', 'shot_zone_area_Center(C)', 'shot_zone_area_Left Side(L)', 'shot_zone_area_Right Side Center(RC)', 'shot_zone_basic_Above the Break 3', 'shot_zone_basic_In The Paint (Non-RA)', 'shot_zone_basic_Left Corner 3', 'shot_zone_range_16-24 ft.', 'shot_zone_range_8-16 ft.', 'shot_zone_range_Less Than 8 ft.']\n"
     ]
    },
    {
     "data": {
      "image/png": "[encoded data removed]",
      "text/plain": [
       "<Figure size 864x288 with 1 Axes>"
      ]
     },
     "metadata": {
      "needs_background": "light"
     },
     "output_type": "display_data"
    }
   ],
   "source": [
    "graph_reg(X_train, X_test, y_train, y_test, Lasso)"
   ]
  },
  {
   "cell_type": "code",
   "execution_count": 545,
   "metadata": {},
   "outputs": [],
   "source": [
    "from sklearn.linear_model import Ridge"
   ]
  },
  {
   "cell_type": "code",
   "execution_count": 546,
   "metadata": {},
   "outputs": [
    {
     "name": "stdout",
     "output_type": "stream",
     "text": [
      "max_score 0.6265, alpha 26.421090173639946\n",
      "использовал параметры 41 из 41\n",
      "оставил параметры:\n",
      "['lat', 'loc_x', 'loc_y', 'lon', 'period', 'playoffs', 'shot_distance', 'dayOfWeek', 'dayOfYear', 'month', 'year', 'quarter', 'secondsFromPeriodEnd', 'secondsFromPeriodStart', 'secondsFromGameStart', 'combined_shot_type_Bank Shot', 'combined_shot_type_Dunk', 'combined_shot_type_Hook Shot', 'combined_shot_type_Jump Shot', 'combined_shot_type_Layup', 'combined_shot_type_Tip Shot', 'shot_type_2PT Field Goal', 'shot_type_3PT Field Goal', 'shot_zone_area_Back Court(BC)', 'shot_zone_area_Center(C)', 'shot_zone_area_Left Side Center(LC)', 'shot_zone_area_Left Side(L)', 'shot_zone_area_Right Side Center(RC)', 'shot_zone_area_Right Side(R)', 'shot_zone_basic_Above the Break 3', 'shot_zone_basic_Backcourt', 'shot_zone_basic_In The Paint (Non-RA)', 'shot_zone_basic_Left Corner 3', 'shot_zone_basic_Mid-Range', 'shot_zone_basic_Restricted Area', 'shot_zone_basic_Right Corner 3', 'shot_zone_range_16-24 ft.', 'shot_zone_range_24+ ft.', 'shot_zone_range_8-16 ft.', 'shot_zone_range_Back Court Shot', 'shot_zone_range_Less Than 8 ft.']\n"
     ]
    },
    {
     "data": {
      "image/png": "[encoded data removed]",
      "text/plain": [
       "<Figure size 864x288 with 1 Axes>"
      ]
     },
     "metadata": {
      "needs_background": "light"
     },
     "output_type": "display_data"
    }
   ],
   "source": [
    "graph_reg(X_train, X_test, y_train, y_test, Ridge)"
   ]
  },
  {
   "cell_type": "code",
   "execution_count": 461,
   "metadata": {},
   "outputs": [],
   "source": [
    "from sklearn.linear_model import LinearRegression"
   ]
  },
  {
   "cell_type": "code",
   "execution_count": 559,
   "metadata": {},
   "outputs": [],
   "source": [
    "# посчитаем скор для разного количества фичей начиная с самых важных\n",
    "feat_n,score = [], []\n",
    "for i in range(len(col_imp)+1):\n",
    "    col = col_imp[0:(1+i)]\n",
    "    reg = LinearRegression().fit(X_train[col], y_train)\n",
    "    sc = roc_auc_score(y_test, reg.predict(X_test[col]))\n",
    "    score.append(sc)\n",
    "    feat_n.append(i)"
   ]
  },
  {
   "cell_type": "code",
   "execution_count": 561,
   "metadata": {},
   "outputs": [
    {
     "name": "stdout",
     "output_type": "stream",
     "text": [
      "max_score 0.6274\n",
      "использовал параметры 38 из 41\n"
     ]
    }
   ],
   "source": [
    "maxs = max(score)\n",
    "maxi = score.index(max(score))\n",
    "\n",
    "print(f'max_score {round(maxs,4)}')\n",
    "print(f'использовал параметры {feat_n[maxi]} из {len(list(X_train.columns))}')"
   ]
  },
  {
   "cell_type": "markdown",
   "metadata": {},
   "source": [
    "все три модели (линейная модель, Lasso, Ridge) показали одинаковый результат 0.63 по метрике ROC AUC. При этом модель Lasso использовала меньше всего переменных (29 из 41)"
   ]
  },
  {
   "cell_type": "code",
   "execution_count": null,
   "metadata": {},
   "outputs": [],
   "source": []
  }
 ],
 "metadata": {
  "colab": {
   "name": "HW_Kobe.ipynb",
   "provenance": []
  },
  "kernelspec": {
   "display_name": "Python 3",
   "language": "python",
   "name": "python3"
  },
  "language_info": {
   "codemirror_mode": {
    "name": "ipython",
    "version": 3
   },
   "file_extension": ".py",
   "mimetype": "text/x-python",
   "name": "python",
   "nbconvert_exporter": "python",
   "pygments_lexer": "ipython3",
   "version": "3.8.8"
  }
 },
 "nbformat": 4,
 "nbformat_minor": 1
}
