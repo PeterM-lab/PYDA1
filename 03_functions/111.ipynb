{
 "cells": [
  {
   "cell_type": "code",
   "execution_count": 276,
   "metadata": {},
   "outputs": [],
   "source": [
    "documents = [\n",
    " {'type': 'passport', 'number': '2207 876234', 'name': 'Василий Гупкин'},\n",
    " {'type': 'invoice', 'number': '11-2', 'name': 'Геннадий Покемонов'},\n",
    " {'type': 'insurance', 'number': '10006', 'name': 'Аристарх Павлов'}\n",
    "]\n",
    "\n",
    "directories = {\n",
    " '1': ['2207 876234', '11-2'],\n",
    " '2': ['10006'],\n",
    " '3': []\n",
    "}"
   ]
  },
  {
   "cell_type": "code",
   "execution_count": 213,
   "metadata": {},
   "outputs": [],
   "source": [
    "def finditem(mydict, searitem, dirtrue):\n",
    "    counter = 0\n",
    "    for item in mydict:\n",
    "        if dirtrue == True:\n",
    "            if searitem == item:\n",
    "                return True\n",
    "        else:\n",
    "            if searitem == item['number']:\n",
    "                return counter\n",
    "        counter += 1\n",
    "    return False"
   ]
  },
  {
   "cell_type": "code",
   "execution_count": 214,
   "metadata": {},
   "outputs": [],
   "source": [
    "def func1(docnumber):\n",
    "    otvet = finditem(documents,str(docnumber),False)\n",
    "    if otvet != False:\n",
    "        print(\"Владелец документа: \"+documents[otvet]['name'])\n",
    "    else:\n",
    "        print(\"Документ не найден в базе\")\n",
    "    "
   ]
  },
  {
   "cell_type": "code",
   "execution_count": 215,
   "metadata": {},
   "outputs": [],
   "source": [
    "def func2(text, docnumber): \n",
    "    isin = False\n",
    "    for item in directories:\n",
    "        if docnumber in directories[item]:\n",
    "            isin = True\n",
    "            return text+item\n",
    "           \n",
    "    if isin == False:\n",
    "        return \"Документ не найден в базе\"\n",
    "       "
   ]
  },
  {
   "cell_type": "code",
   "execution_count": 216,
   "metadata": {},
   "outputs": [],
   "source": [
    "def func3():\n",
    "    for item in documents:\n",
    "        \n",
    "        print(\"№:\"+item['number']+\", тип: \"+item['type']+\", владелец: \"+item['name']+\", полка хранения: \"+str(func2('',str(item['number']))))\n"
   ]
  },
  {
   "cell_type": "code",
   "execution_count": 217,
   "metadata": {},
   "outputs": [],
   "source": [
    "def func4_1():\n",
    "    for item in directories:\n",
    "                print(item, end=\" \")"
   ]
  },
  {
   "cell_type": "code",
   "execution_count": 218,
   "metadata": {},
   "outputs": [],
   "source": [
    "def func4(newstr):\n",
    "    if finditem(directories,str(newstr),True) == True:\n",
    "        print('Такая полка уже существует. Текущий перечень полок: ', end=\"\")\n",
    "        func4_1()\n",
    "          \n",
    "    else:\n",
    "        directories[str(newstr)]=[]\n",
    "        print('Полка добавлена. Текущий перечень полок: ', end=\"\")\n",
    "        func4_1()\n",
    "        "
   ]
  },
  {
   "cell_type": "code",
   "execution_count": 219,
   "metadata": {},
   "outputs": [],
   "source": [
    "def func5(delstr):\n",
    "   \n",
    "        \n",
    "    if (finditem(directories,str(delstr),True) == True) and (directories[delstr] != []):\n",
    "        print('На полке есть документа, удалите их перед удалением полки. Текущий перечень полок: ', end=\"\")\n",
    "        func4_1()\n",
    "    if (finditem(directories,str(delstr),True) == False):\n",
    "        print('Такой полки не существует. Текущий перечень полок: ', end=\"\")\n",
    "        func4_1()\n",
    "    if (finditem(directories,str(delstr),True) == True) and (directories[delstr] == []):\n",
    "        del directories[delstr]\n",
    "        print('Полка удалена. Текущий перечень полок: ', end=\"\")\n",
    "        func4_1()"
   ]
  },
  {
   "cell_type": "code",
   "execution_count": 220,
   "metadata": {},
   "outputs": [],
   "source": [
    "def func6(num, typed, own, polka):\n",
    "    if (finditem(directories,str(polka),True) == False):\n",
    "        print('Такой полки не существует. Добавьте полку командой as.')\n",
    "        print('Текущий список документов:')\n",
    "        func3()\n",
    "    else:\n",
    "        documents.append({'type': typed, 'number': num, 'name': own})\n",
    "        directories[polka].append(num)\n",
    "        print('Документ добавлен. Текущий список документов:')\n",
    "        func3()\n",
    "    "
   ]
  },
  {
   "cell_type": "code",
   "execution_count": 250,
   "metadata": {},
   "outputs": [],
   "source": [
    "def func7(deleteit):\n",
    "    if finditem(documents, deleteit, False) == False:\n",
    "        \n",
    "        return False\n",
    "        \n",
    "    else:\n",
    "        del documents[finditem(documents, deleteit, False)]\n",
    "        \n",
    "        directories[func2('',deleteit)].remove(deleteit)\n",
    "        \n",
    "        \n",
    "        return True"
   ]
  },
  {
   "cell_type": "code",
   "execution_count": 268,
   "metadata": {},
   "outputs": [],
   "source": [
    "def func8(docn, docp):\n",
    "    if func2('Документ хранится на полке: ',docn) == \"Документ не найден в базе\":\n",
    "        print(\"Документ не найден в базе\")\n",
    "        print('Текущий список документов:')\n",
    "        func3()\n",
    "        \n",
    "    else:\n",
    "        if (finditem(directories,docp,True) == False):\n",
    "            print('Такой полки не существует. Текущий перечень полок:', end=\"\")\n",
    "            func4_1()\n",
    "        else:\n",
    "            directories[func2('',docn)].remove(docn)\n",
    "            directories[docp].append(docn)\n",
    "            print('Документ перемещен.')\n",
    "            print('Текущий список документов:')\n",
    "            func3()\n",
    "\n",
    "            "
   ]
  },
  {
   "cell_type": "code",
   "execution_count": 277,
   "metadata": {},
   "outputs": [
    {
     "name": "stdout",
     "output_type": "stream",
     "text": [
      "q\n"
     ]
    }
   ],
   "source": [
    "inpkey = 0\n",
    "\n",
    "while inpkey != 'q':\n",
    "    \n",
    "    inpkey = input()\n",
    "    \n",
    "    if inpkey == 'p':\n",
    "        print('Введите номер документа:')\n",
    "        func1(input())\n",
    "        \n",
    "    if inpkey == 's':\n",
    "        print('Введите номер документа:')\n",
    "        print(func2('Документ хранится на полке: ',input()))\n",
    "        \n",
    "    if inpkey == 'l':\n",
    "        func3()\n",
    "        \n",
    "    if inpkey == 'ads':\n",
    "        print('Введите номер полки:')\n",
    "        func4(input())\n",
    "        \n",
    "    if inpkey == 'ds':\n",
    "        print('Введите номер полки:')\n",
    "        func5(input())\n",
    "        \n",
    "    if inpkey == 'ad':\n",
    "        print('Введите номер документа:')\n",
    "        docnum = input()\n",
    "        print('Введите тип документа:')\n",
    "        doctype = input()\n",
    "        print('Введите владельца документа:')\n",
    "        docown = input()\n",
    "        print('Введите полку для хранения:')\n",
    "        docpolka = input()\n",
    "        print('Результат:')\n",
    "        func6(docnum, doctype, docown, docpolka)\n",
    "        \n",
    "    if inpkey == 'd':\n",
    "        print('Введите номер документа:')\n",
    "        if func7(input()) == False:\n",
    "            print('Документ не найден в базе.')\n",
    "        else:\n",
    "            print('Документ удален.')\n",
    "        print('Текущий список документов:')\n",
    "        func3()\n",
    "        \n",
    "    if inpkey == 'm':\n",
    "        print('Введите номер документа:')\n",
    "        docnum = input()\n",
    "        print('Введите номер полки:')\n",
    "        docpolka = input()\n",
    "        func8(docnum,docpolka)"
   ]
  }
 ],
 "metadata": {
  "kernelspec": {
   "display_name": "Python 3",
   "language": "python",
   "name": "python3"
  },
  "language_info": {
   "codemirror_mode": {
    "name": "ipython",
    "version": 3
   },
   "file_extension": ".py",
   "mimetype": "text/x-python",
   "name": "python",
   "nbconvert_exporter": "python",
   "pygments_lexer": "ipython3",
   "version": "3.8.3"
  }
 },
 "nbformat": 4,
 "nbformat_minor": 4
}
