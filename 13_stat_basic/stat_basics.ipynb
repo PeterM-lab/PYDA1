{
 "cells": [
  {
   "cell_type": "markdown",
   "metadata": {},
   "source": [
    "# Домашнее задание к лекции \"Базовые понятия статистики\""
   ]
  },
  {
   "cell_type": "markdown",
   "metadata": {},
   "source": [
    "## Обязательная часть\n",
    "\n",
    "Будем осуществлять работу с непростым [набором данных](https://raw.githubusercontent.com/obulygin/pyda_homeworks/master/statistics_basics/horse_data.csv) о состоянии здоровья лошадей, испытывающих кишечные колики. \n",
    "\n",
    "### Задание 1. Базовое изучение\n",
    "\n",
    "Изучить представленный набор данных на основе [описания его столбцов](https://raw.githubusercontent.com/obulygin/pyda_homeworks/master/statistics_basics/horse_data.names) и выбрать 8 столбцов для дальнейшего изучения (среди них должны быть как числовые, так и категориальные). Провести расчет базовых метрик для них, кратко описать результаты."
   ]
  },
  {
   "cell_type": "code",
   "execution_count": 1,
   "metadata": {},
   "outputs": [],
   "source": [
    "import pandas as pd"
   ]
  },
  {
   "cell_type": "code",
   "execution_count": 248,
   "metadata": {},
   "outputs": [],
   "source": [
    "df = pd.read_csv('horse_data.csv',header=None)"
   ]
  },
  {
   "cell_type": "code",
   "execution_count": 3,
   "metadata": {},
   "outputs": [],
   "source": [
    "f = open(\"horse_data.txt\", \"r\") "
   ]
  },
  {
   "cell_type": "code",
   "execution_count": 4,
   "metadata": {},
   "outputs": [
    {
     "name": "stdout",
     "output_type": "stream",
     "text": [
      "1. TItle: Horse Colic database\n",
      "\n",
      "2. Source Information\n",
      "   -- Creators: Mary McLeish & Matt Cecile\n",
      "\t  \tDepartment of Computer Science\n",
      "\t\tUniversity of Guelph\n",
      "\t\tGuelph, Ontario, Canada N1G 2W1\n",
      "\t\tmdmcleish@water.waterloo.edu\n",
      "   -- Donor:    Will Taylor (taylor@pluto.arc.nasa.gov)\n",
      "   -- Date:     8/6/89\n",
      "\n",
      "3. Past Usage:\n",
      "   -- Unknown\n",
      "\n",
      "4. Relevant Information:\n",
      "\n",
      "   -- 2 data files\n",
      "      -- horse-colic.data: 300 training instances\n",
      "      -- horse-colic.test: 68 test instances\n",
      "   -- Possible class attributes: 24 (whether lesion is surgical)\n",
      "     -- others include: 23, 25, 26, and 27\n",
      "   -- Many Data types: (continuous, discrete, and nominal)\n",
      "\n",
      "5. Number of Instances: 368 (300 for training, 68 for testing)\n",
      "\n",
      "6. Number of attributes: 28\n",
      "\n",
      "7. Attribute Information:\n",
      "\n",
      "  1:  surgery?\n",
      "          1 = Yes, it had surgery\n",
      "          2 = It was treated without surgery\n",
      "\n",
      "  2:  Age\n",
      "          1 = Adult horse\n",
      "          2 = Young (< 6 months)\n",
      "\n",
      "  3:  Hospital Number\n",
      "          - numeric id\n",
      "          - the case number assigned to the horse\n",
      "            (may not be unique if the horse is treated > 1 time)\n",
      "\n",
      "  4:  rectal temperature\n",
      "          - linear\n",
      "          - in degrees celsius.\n",
      "          - An elevated temp may occur due to infection.\n",
      "          - temperature may be reduced when the animal is in late shock\n",
      "          - normal temp is 37.8\n",
      "          - this parameter will usually change as the problem progresses\n",
      "               eg. may start out normal, then become elevated because of\n",
      "                   the lesion, passing back through the normal range as the\n",
      "                   horse goes into shock\n",
      "  5:  pulse\n",
      "          - linear\n",
      "          - the heart rate in beats per minute\n",
      "          - is a reflection of the heart condition: 30 -40 is normal for adults\n",
      "          - rare to have a lower than normal rate although athletic horses\n",
      "            may have a rate of 20-25\n",
      "          - animals with painful lesions or suffering from circulatory shock\n",
      "            may have an elevated heart rate\n",
      "\n",
      "  6:  respiratory rate\n",
      "          - linear\n",
      "          - normal rate is 8 to 10\n",
      "          - usefulness is doubtful due to the great fluctuations\n",
      "\n",
      "  7:  temperature of extremities\n",
      "          - a subjective indication of peripheral circulation\n",
      "          - possible values:\n",
      "               1 = Normal\n",
      "               2 = Warm\n",
      "               3 = Cool\n",
      "               4 = Cold\n",
      "          - cool to cold extremities indicate possible shock\n",
      "          - hot extremities should correlate with an elevated rectal temp.\n",
      "\n",
      "  8:  peripheral pulse\n",
      "          - subjective\n",
      "          - possible values are:\n",
      "               1 = normal\n",
      "               2 = increased\n",
      "               3 = reduced\n",
      "               4 = absent\n",
      "          - normal or increased p.p. are indicative of adequate circulation\n",
      "            while reduced or absent indicate poor perfusion\n",
      "\n",
      "  9:  mucous membranes\n",
      "          - a subjective measurement of colour\n",
      "          - possible values are:\n",
      "               1 = normal pink\n",
      "               2 = bright pink\n",
      "               3 = pale pink\n",
      "               4 = pale cyanotic\n",
      "               5 = bright red / injected\n",
      "               6 = dark cyanotic\n",
      "          - 1 and 2 probably indicate a normal or slightly increased\n",
      "            circulation\n",
      "          - 3 may occur in early shock\n",
      "          - 4 and 6 are indicative of serious circulatory compromise\n",
      "          - 5 is more indicative of a septicemia\n",
      "\n",
      " 10: capillary refill time\n",
      "          - a clinical judgement. The longer the refill, the poorer the\n",
      "            circulation\n",
      "          - possible values\n",
      "               1 = < 3 seconds\n",
      "               2 = >= 3 seconds\n",
      "\n",
      " 11: pain - a subjective judgement of the horse's pain level\n",
      "          - possible values:\n",
      "               1 = alert, no pain\n",
      "               2 = depressed\n",
      "               3 = intermittent mild pain\n",
      "               4 = intermittent severe pain\n",
      "               5 = continuous severe pain\n",
      "          - should NOT be treated as a ordered or discrete variable!\n",
      "          - In general, the more painful, the more likely it is to require\n",
      "            surgery\n",
      "          - prior treatment of pain may mask the pain level to some extent\n",
      "\n",
      " 12: peristalsis\n",
      "          - an indication of the activity in the horse's gut. As the gut\n",
      "            becomes more distended or the horse becomes more toxic, the\n",
      "            activity decreases\n",
      "          - possible values:\n",
      "               1 = hypermotile\n",
      "               2 = normal\n",
      "               3 = hypomotile\n",
      "               4 = absent\n",
      "\n",
      " 13: abdominal distension\n",
      "          - An IMPORTANT parameter.\n",
      "          - possible values\n",
      "               1 = none\n",
      "               2 = slight\n",
      "               3 = moderate\n",
      "               4 = severe\n",
      "          - an animal with abdominal distension is likely to be painful and\n",
      "            have reduced gut motility.\n",
      "          - a horse with severe abdominal distension is likely to require\n",
      "            surgery just tio relieve the pressure\n",
      "\n",
      " 14: nasogastric tube\n",
      "          - this refers to any gas coming out of the tube\n",
      "          - possible values:\n",
      "               1 = none\n",
      "               2 = slight\n",
      "               3 = significant\n",
      "          - a large gas cap in the stomach is likely to give the horse\n",
      "            discomfort\n",
      "\n",
      " 15: nasogastric reflux\n",
      "          - possible values\n",
      "               1 = none\n",
      "               2 = > 1 liter\n",
      "               3 = < 1 liter\n",
      "          - the greater amount of reflux, the more likelihood that there is\n",
      "            some serious obstruction to the fluid passage from the rest of\n",
      "            the intestine\n",
      "\n",
      " 16: nasogastric reflux PH\n",
      "          - linear\n",
      "          - scale is from 0 to 14 with 7 being neutral\n",
      "          - normal values are in the 3 to 4 range\n",
      "\n",
      " 17: rectal examination - feces\n",
      "          - possible values\n",
      "               1 = normal\n",
      "               2 = increased\n",
      "               3 = decreased\n",
      "               4 = absent\n",
      "          - absent feces probably indicates an obstruction\n",
      "\n",
      " 18: abdomen\n",
      "          - possible values\n",
      "               1 = normal\n",
      "               2 = other\n",
      "               3 = firm feces in the large intestine\n",
      "               4 = distended small intestine\n",
      "               5 = distended large intestine\n",
      "          - 3 is probably an obstruction caused by a mechanical impaction\n",
      "            and is normally treated medically\n",
      "          - 4 and 5 indicate a surgical lesion\n",
      "\n",
      " 19: packed cell volume\n",
      "          - linear\n",
      "          - the # of red cells by volume in the blood\n",
      "          - normal range is 30 to 50. The level rises as the circulation\n",
      "            becomes compromised or as the animal becomes dehydrated.\n",
      "\n",
      " 20: total protein\n",
      "          - linear\n",
      "          - normal values lie in the 6-7.5 (gms/dL) range\n",
      "          - the higher the value the greater the dehydration\n",
      "\n",
      " 21: abdominocentesis appearance\n",
      "          - a needle is put in the horse's abdomen and fluid is obtained from\n",
      "            the abdominal cavity\n",
      "          - possible values:\n",
      "               1 = clear\n",
      "               2 = cloudy\n",
      "               3 = serosanguinous\n",
      "          - normal fluid is clear while cloudy or serosanguinous indicates\n",
      "            a compromised gut\n",
      "\n",
      " 22: abdomcentesis total protein\n",
      "          - linear\n",
      "          - the higher the level of protein the more likely it is to have a\n",
      "            compromised gut. Values are in gms/dL\n",
      "\n",
      " 23: outcome\n",
      "          - what eventually happened to the horse?\n",
      "          - possible values:\n",
      "               1 = lived\n",
      "               2 = died\n",
      "               3 = was euthanized\n",
      "\n",
      " 24: surgical lesion?\n",
      "          - retrospectively, was the problem (lesion) surgical?\n",
      "          - all cases are either operated upon or autopsied so that\n",
      "            this value and the lesion type are always known\n",
      "          - possible values:\n",
      "               1 = Yes\n",
      "               2 = No\n",
      "\n",
      " 25, 26, 27: type of lesion\n",
      "          - first number is site of lesion\n",
      "               1 = gastric\n",
      "               2 = sm intestine\n",
      "               3 = lg colon\n",
      "               4 = lg colon and cecum\n",
      "               5 = cecum\n",
      "               6 = transverse colon\n",
      "               7 = retum/descending colon\n",
      "               8 = uterus\n",
      "               9 = bladder\n",
      "               11 = all intestinal sites\n",
      "               00 = none\n",
      "          - second number is type\n",
      "               1 = simple\n",
      "               2 = strangulation\n",
      "               3 = inflammation\n",
      "               4 = other\n",
      "          - third number is subtype\n",
      "               1 = mechanical\n",
      "               2 = paralytic\n",
      "               0 = n/a\n",
      "          - fourth number is specific code\n",
      "               1 = obturation\n",
      "               2 = intrinsic\n",
      "               3 = extrinsic\n",
      "               4 = adynamic\n",
      "               5 = volvulus/torsion\n",
      "               6 = intussuption\n",
      "               7 = thromboembolic\n",
      "               8 = hernia\n",
      "               9 = lipoma/slenic incarceration\n",
      "               10 = displacement\n",
      "               0 = n/a\n",
      " 28: cp_data\n",
      "          - is pathology data present for this case?\n",
      "               1 = Yes\n",
      "               2 = No\n",
      "          - this variable is of no significance since pathology data\n",
      "            is not included or collected for these cases\n",
      "\n",
      "8. Missing values: 30% of the values are missing\n"
     ]
    }
   ],
   "source": [
    "print(f.read())"
   ]
  },
  {
   "cell_type": "code",
   "execution_count": 249,
   "metadata": {},
   "outputs": [],
   "source": [
    "header = ['surgery?',\n",
    "          'Age',\n",
    "          'Hospital Number',\n",
    "          'rectal temperature',\n",
    "          'pulse',\n",
    "          'respiratory rate',\n",
    "          'temperature of extremities',\n",
    "          'peripheral pulse',\n",
    "          'mucous membranes',\n",
    "          'capillary refill time',\n",
    "          'pain',\n",
    "          'peristalsis',\n",
    "          'abdominal distension',\n",
    "          'nasogastric tube',\n",
    "          'nasogastric reflux',\n",
    "          'nasogastric reflux PH',\n",
    "          'rectal examination - feces',\n",
    "          'abdomen',\n",
    "          'packed cell volume',\n",
    "          'total protein',\n",
    "          'abdominocentesis appearance',\n",
    "          'abdomcentesis total protein',\n",
    "          'outcome',\n",
    "          'surgical lesion?',\n",
    "          'type of lesion1',\n",
    "          'type of lesion2',\n",
    "          'type of lesion3',\n",
    "          'cp_data']"
   ]
  },
  {
   "cell_type": "code",
   "execution_count": 250,
   "metadata": {},
   "outputs": [],
   "source": [
    "df.columns = header"
   ]
  },
  {
   "cell_type": "code",
   "execution_count": 251,
   "metadata": {},
   "outputs": [
    {
     "data": {
      "text/html": [
       "<div>\n",
       "<style scoped>\n",
       "    .dataframe tbody tr th:only-of-type {\n",
       "        vertical-align: middle;\n",
       "    }\n",
       "\n",
       "    .dataframe tbody tr th {\n",
       "        vertical-align: top;\n",
       "    }\n",
       "\n",
       "    .dataframe thead th {\n",
       "        text-align: right;\n",
       "    }\n",
       "</style>\n",
       "<table border=\"1\" class=\"dataframe\">\n",
       "  <thead>\n",
       "    <tr style=\"text-align: right;\">\n",
       "      <th></th>\n",
       "      <th>surgery?</th>\n",
       "      <th>Age</th>\n",
       "      <th>Hospital Number</th>\n",
       "      <th>rectal temperature</th>\n",
       "      <th>pulse</th>\n",
       "      <th>respiratory rate</th>\n",
       "      <th>temperature of extremities</th>\n",
       "      <th>peripheral pulse</th>\n",
       "      <th>mucous membranes</th>\n",
       "      <th>capillary refill time</th>\n",
       "      <th>...</th>\n",
       "      <th>packed cell volume</th>\n",
       "      <th>total protein</th>\n",
       "      <th>abdominocentesis appearance</th>\n",
       "      <th>abdomcentesis total protein</th>\n",
       "      <th>outcome</th>\n",
       "      <th>surgical lesion?</th>\n",
       "      <th>type of lesion1</th>\n",
       "      <th>type of lesion2</th>\n",
       "      <th>type of lesion3</th>\n",
       "      <th>cp_data</th>\n",
       "    </tr>\n",
       "  </thead>\n",
       "  <tbody>\n",
       "    <tr>\n",
       "      <th>0</th>\n",
       "      <td>2</td>\n",
       "      <td>1</td>\n",
       "      <td>530101</td>\n",
       "      <td>38.50</td>\n",
       "      <td>66</td>\n",
       "      <td>28</td>\n",
       "      <td>3</td>\n",
       "      <td>3</td>\n",
       "      <td>?</td>\n",
       "      <td>2</td>\n",
       "      <td>...</td>\n",
       "      <td>45.00</td>\n",
       "      <td>8.40</td>\n",
       "      <td>?</td>\n",
       "      <td>?</td>\n",
       "      <td>2</td>\n",
       "      <td>2</td>\n",
       "      <td>11300</td>\n",
       "      <td>0</td>\n",
       "      <td>0</td>\n",
       "      <td>2</td>\n",
       "    </tr>\n",
       "    <tr>\n",
       "      <th>1</th>\n",
       "      <td>1</td>\n",
       "      <td>1</td>\n",
       "      <td>534817</td>\n",
       "      <td>39.2</td>\n",
       "      <td>88</td>\n",
       "      <td>20</td>\n",
       "      <td>?</td>\n",
       "      <td>?</td>\n",
       "      <td>4</td>\n",
       "      <td>1</td>\n",
       "      <td>...</td>\n",
       "      <td>50</td>\n",
       "      <td>85</td>\n",
       "      <td>2</td>\n",
       "      <td>2</td>\n",
       "      <td>3</td>\n",
       "      <td>2</td>\n",
       "      <td>2208</td>\n",
       "      <td>0</td>\n",
       "      <td>0</td>\n",
       "      <td>2</td>\n",
       "    </tr>\n",
       "    <tr>\n",
       "      <th>2</th>\n",
       "      <td>2</td>\n",
       "      <td>1</td>\n",
       "      <td>530334</td>\n",
       "      <td>38.30</td>\n",
       "      <td>40</td>\n",
       "      <td>24</td>\n",
       "      <td>1</td>\n",
       "      <td>1</td>\n",
       "      <td>3</td>\n",
       "      <td>1</td>\n",
       "      <td>...</td>\n",
       "      <td>33.00</td>\n",
       "      <td>6.70</td>\n",
       "      <td>?</td>\n",
       "      <td>?</td>\n",
       "      <td>1</td>\n",
       "      <td>2</td>\n",
       "      <td>0</td>\n",
       "      <td>0</td>\n",
       "      <td>0</td>\n",
       "      <td>1</td>\n",
       "    </tr>\n",
       "    <tr>\n",
       "      <th>3</th>\n",
       "      <td>1</td>\n",
       "      <td>9</td>\n",
       "      <td>5290409</td>\n",
       "      <td>39.10</td>\n",
       "      <td>164</td>\n",
       "      <td>84</td>\n",
       "      <td>4</td>\n",
       "      <td>1</td>\n",
       "      <td>6</td>\n",
       "      <td>2</td>\n",
       "      <td>...</td>\n",
       "      <td>48.00</td>\n",
       "      <td>7.20</td>\n",
       "      <td>3</td>\n",
       "      <td>5.30</td>\n",
       "      <td>2</td>\n",
       "      <td>1</td>\n",
       "      <td>2208</td>\n",
       "      <td>0</td>\n",
       "      <td>0</td>\n",
       "      <td>1</td>\n",
       "    </tr>\n",
       "    <tr>\n",
       "      <th>4</th>\n",
       "      <td>2</td>\n",
       "      <td>1</td>\n",
       "      <td>530255</td>\n",
       "      <td>37.30</td>\n",
       "      <td>104</td>\n",
       "      <td>35</td>\n",
       "      <td>?</td>\n",
       "      <td>?</td>\n",
       "      <td>6</td>\n",
       "      <td>2</td>\n",
       "      <td>...</td>\n",
       "      <td>74.00</td>\n",
       "      <td>7.40</td>\n",
       "      <td>?</td>\n",
       "      <td>?</td>\n",
       "      <td>2</td>\n",
       "      <td>2</td>\n",
       "      <td>4300</td>\n",
       "      <td>0</td>\n",
       "      <td>0</td>\n",
       "      <td>2</td>\n",
       "    </tr>\n",
       "  </tbody>\n",
       "</table>\n",
       "<p>5 rows × 28 columns</p>\n",
       "</div>"
      ],
      "text/plain": [
       "  surgery?  Age  Hospital Number rectal temperature pulse respiratory rate  \\\n",
       "0        2    1           530101              38.50    66               28   \n",
       "1        1    1           534817               39.2    88               20   \n",
       "2        2    1           530334              38.30    40               24   \n",
       "3        1    9          5290409              39.10   164               84   \n",
       "4        2    1           530255              37.30   104               35   \n",
       "\n",
       "  temperature of extremities peripheral pulse mucous membranes  \\\n",
       "0                          3                3                ?   \n",
       "1                          ?                ?                4   \n",
       "2                          1                1                3   \n",
       "3                          4                1                6   \n",
       "4                          ?                ?                6   \n",
       "\n",
       "  capillary refill time  ... packed cell volume total protein  \\\n",
       "0                     2  ...              45.00          8.40   \n",
       "1                     1  ...                 50            85   \n",
       "2                     1  ...              33.00          6.70   \n",
       "3                     2  ...              48.00          7.20   \n",
       "4                     2  ...              74.00          7.40   \n",
       "\n",
       "  abdominocentesis appearance abdomcentesis total protein outcome  \\\n",
       "0                           ?                           ?       2   \n",
       "1                           2                           2       3   \n",
       "2                           ?                           ?       1   \n",
       "3                           3                        5.30       2   \n",
       "4                           ?                           ?       2   \n",
       "\n",
       "  surgical lesion? type of lesion1 type of lesion2 type of lesion3 cp_data  \n",
       "0                2           11300               0               0       2  \n",
       "1                2            2208               0               0       2  \n",
       "2                2               0               0               0       1  \n",
       "3                1            2208               0               0       1  \n",
       "4                2            4300               0               0       2  \n",
       "\n",
       "[5 rows x 28 columns]"
      ]
     },
     "execution_count": 251,
     "metadata": {},
     "output_type": "execute_result"
    }
   ],
   "source": [
    "df.head()"
   ]
  },
  {
   "cell_type": "code",
   "execution_count": 8,
   "metadata": {},
   "outputs": [
    {
     "name": "stdout",
     "output_type": "stream",
     "text": [
      "<class 'pandas.core.frame.DataFrame'>\n",
      "RangeIndex: 300 entries, 0 to 299\n",
      "Data columns (total 28 columns):\n",
      " #   Column                       Non-Null Count  Dtype \n",
      "---  ------                       --------------  ----- \n",
      " 0   surgery?                     300 non-null    object\n",
      " 1   Age                          300 non-null    int64 \n",
      " 2   Hospital Number              300 non-null    int64 \n",
      " 3   rectal temperature           300 non-null    object\n",
      " 4   pulse                        300 non-null    object\n",
      " 5   respiratory rate             300 non-null    object\n",
      " 6   temperature of extremities   300 non-null    object\n",
      " 7   peripheral pulse             300 non-null    object\n",
      " 8   mucous membranes             300 non-null    object\n",
      " 9   capillary refill time        300 non-null    object\n",
      " 10  pain                         300 non-null    object\n",
      " 11  peristalsis                  300 non-null    object\n",
      " 12  abdominal distension         300 non-null    object\n",
      " 13  nasogastric tube             300 non-null    object\n",
      " 14  nasogastric reflux           300 non-null    object\n",
      " 15  nasogastric reflux PH        300 non-null    object\n",
      " 16  rectal examination - feces   300 non-null    object\n",
      " 17  abdomen                      300 non-null    object\n",
      " 18  packed cell volume           300 non-null    object\n",
      " 19  total protein                300 non-null    object\n",
      " 20  abdominocentesis appearance  300 non-null    object\n",
      " 21  outcome                      300 non-null    object\n",
      " 22  surgical lesion?             300 non-null    object\n",
      " 23  site of lesion               300 non-null    int64 \n",
      " 24  type of lesion               300 non-null    int64 \n",
      " 25  subtype                      300 non-null    int64 \n",
      " 26  specific code                300 non-null    int64 \n",
      " 27  cp_data                      300 non-null    int64 \n",
      "dtypes: int64(7), object(21)\n",
      "memory usage: 65.8+ KB\n"
     ]
    }
   ],
   "source": [
    "df.info()"
   ]
  },
  {
   "cell_type": "raw",
   "metadata": {},
   "source": [
    "# выбранные параметры\n",
    "surgery?\n",
    "Age\n",
    "peripheral pulse\n",
    "pulse\n",
    "outcome\n",
    "abdomcentesis total protein\n",
    "total protein\n",
    "abdominal distension"
   ]
  },
  {
   "cell_type": "code",
   "execution_count": 9,
   "metadata": {},
   "outputs": [],
   "source": [
    "from collections import Counter"
   ]
  },
  {
   "cell_type": "markdown",
   "metadata": {},
   "source": [
    "# 1:  surgery?\n",
    "          1 = Yes, it had surgery\n",
    "          2 = It was treated without surgery\n"
   ]
  },
  {
   "cell_type": "code",
   "execution_count": 34,
   "metadata": {},
   "outputs": [
    {
     "data": {
      "text/plain": [
       "count     300\n",
       "unique      3\n",
       "top         1\n",
       "freq      180\n",
       "Name: surgery?, dtype: object"
      ]
     },
     "execution_count": 34,
     "metadata": {},
     "output_type": "execute_result"
    }
   ],
   "source": [
    "df['surgery?'].describe()"
   ]
  },
  {
   "cell_type": "code",
   "execution_count": 23,
   "metadata": {},
   "outputs": [
    {
     "data": {
      "text/plain": [
       "Counter({'2': 119, '1': 180, '?': 1})"
      ]
     },
     "execution_count": 23,
     "metadata": {},
     "output_type": "execute_result"
    }
   ],
   "source": [
    "Counter(df['surgery?'].dropna())"
   ]
  },
  {
   "cell_type": "code",
   "execution_count": 12,
   "metadata": {},
   "outputs": [],
   "source": [
    "# у большей части не было операции"
   ]
  },
  {
   "cell_type": "markdown",
   "metadata": {},
   "source": [
    "# 2:  Age\n",
    "          1 = Adult horse\n",
    "          2 = Young (< 6 months)"
   ]
  },
  {
   "cell_type": "code",
   "execution_count": 38,
   "metadata": {},
   "outputs": [
    {
     "data": {
      "text/plain": [
       "Counter({1: 276, 9: 24})"
      ]
     },
     "execution_count": 38,
     "metadata": {},
     "output_type": "execute_result"
    }
   ],
   "source": [
    "Counter(df['Age'])"
   ]
  },
  {
   "cell_type": "code",
   "execution_count": null,
   "metadata": {},
   "outputs": [],
   "source": [
    "# видимо 9 это 2 - молодые. В основном в выборке взрослые лошади"
   ]
  },
  {
   "cell_type": "markdown",
   "metadata": {},
   "source": [
    "# 8:  peripheral pulse\n",
    "          - subjective\n",
    "          - possible values are:\n",
    "               1 = normal\n",
    "               2 = increased\n",
    "               3 = reduced\n",
    "               4 = absent\n",
    "          - normal or increased p.p. are indicative of adequate circulation\n",
    "            while reduced or absent indicate poor perfusion"
   ]
  },
  {
   "cell_type": "code",
   "execution_count": 13,
   "metadata": {},
   "outputs": [
    {
     "data": {
      "text/plain": [
       "count     300\n",
       "unique      5\n",
       "top         1\n",
       "freq      115\n",
       "Name: peripheral pulse, dtype: object"
      ]
     },
     "execution_count": 13,
     "metadata": {},
     "output_type": "execute_result"
    }
   ],
   "source": [
    "df['peripheral pulse'].describe()"
   ]
  },
  {
   "cell_type": "code",
   "execution_count": 14,
   "metadata": {},
   "outputs": [
    {
     "data": {
      "text/plain": [
       "Counter({'3': 103, '?': 69, '1': 115, '4': 8, '2': 5})"
      ]
     },
     "execution_count": 14,
     "metadata": {},
     "output_type": "execute_result"
    }
   ],
   "source": [
    "Counter(df['peripheral pulse'])"
   ]
  },
  {
   "cell_type": "code",
   "execution_count": 15,
   "metadata": {},
   "outputs": [],
   "source": [
    "# 20% пропусков, примерно у половины пульс нормальный, у второй половины сниженный"
   ]
  },
  {
   "cell_type": "markdown",
   "metadata": {},
   "source": [
    "# 5:  pulse\n",
    "          - linear\n",
    "          - the heart rate in beats per minute\n",
    "          - is a reflection of the heart condition: 30 -40 is normal for adults\n",
    "          - rare to have a lower than normal rate although athletic horses\n",
    "            may have a rate of 20-25\n",
    "          - animals with painful lesions or suffering from circulatory shock\n",
    "            may have an elevated heart rate"
   ]
  },
  {
   "cell_type": "code",
   "execution_count": 28,
   "metadata": {},
   "outputs": [],
   "source": [
    "d = df[df['pulse'] != '?']['pulse'].astype(float)"
   ]
  },
  {
   "cell_type": "code",
   "execution_count": 29,
   "metadata": {},
   "outputs": [
    {
     "data": {
      "text/plain": [
       "count    276.000000\n",
       "mean      71.913043\n",
       "std       28.630557\n",
       "min       30.000000\n",
       "25%       48.000000\n",
       "50%       64.000000\n",
       "75%       88.000000\n",
       "max      184.000000\n",
       "Name: pulse, dtype: float64"
      ]
     },
     "execution_count": 29,
     "metadata": {},
     "output_type": "execute_result"
    }
   ],
   "source": [
    "d.describe()"
   ]
  },
  {
   "cell_type": "code",
   "execution_count": 31,
   "metadata": {},
   "outputs": [
    {
     "data": {
      "text/plain": [
       "48.0"
      ]
     },
     "execution_count": 31,
     "metadata": {},
     "output_type": "execute_result"
    }
   ],
   "source": [
    "d.mode()[0]"
   ]
  },
  {
   "cell_type": "code",
   "execution_count": null,
   "metadata": {},
   "outputs": [],
   "source": [
    "#длинный правый хвост, большой разброс для пульса выше нормы"
   ]
  },
  {
   "cell_type": "markdown",
   "metadata": {},
   "source": [
    "# 23: outcome\n",
    "          - what eventually happened to the horse?\n",
    "          - possible values:\n",
    "               1 = lived\n",
    "               2 = died\n",
    "               3 = was euthanized"
   ]
  },
  {
   "cell_type": "code",
   "execution_count": 55,
   "metadata": {},
   "outputs": [
    {
     "data": {
      "text/plain": [
       "count     300\n",
       "unique      4\n",
       "top         1\n",
       "freq      178\n",
       "Name: outcome, dtype: object"
      ]
     },
     "execution_count": 55,
     "metadata": {},
     "output_type": "execute_result"
    }
   ],
   "source": [
    "df['outcome'].describe()"
   ]
  },
  {
   "cell_type": "code",
   "execution_count": 57,
   "metadata": {},
   "outputs": [
    {
     "data": {
      "text/plain": [
       "Counter({'2': 77, '3': 44, '1': 178, '?': 1})"
      ]
     },
     "execution_count": 57,
     "metadata": {},
     "output_type": "execute_result"
    }
   ],
   "source": [
    "Counter(df['outcome'])"
   ]
  },
  {
   "cell_type": "code",
   "execution_count": null,
   "metadata": {},
   "outputs": [],
   "source": [
    "#почти 2/3 лошадей остались в живых"
   ]
  },
  {
   "cell_type": "markdown",
   "metadata": {},
   "source": [
    "# 22: abdomcentesis total protein\n",
    "          - linear\n",
    "          - the higher the level of protein the more likely it is to have a\n",
    "            compromised gut. Values are in gms/dL"
   ]
  },
  {
   "cell_type": "code",
   "execution_count": 59,
   "metadata": {},
   "outputs": [],
   "source": [
    "d = df[df['abdomcentesis total protein'] != '?']['abdomcentesis total protein'].astype(float)"
   ]
  },
  {
   "cell_type": "code",
   "execution_count": 61,
   "metadata": {},
   "outputs": [
    {
     "data": {
      "text/plain": [
       "count    102.000000\n",
       "mean       3.019608\n",
       "std        1.968567\n",
       "min        0.100000\n",
       "25%        2.000000\n",
       "50%        2.250000\n",
       "75%        3.900000\n",
       "max       10.100000\n",
       "Name: abdomcentesis total protein, dtype: float64"
      ]
     },
     "execution_count": 61,
     "metadata": {},
     "output_type": "execute_result"
    }
   ],
   "source": [
    "d.describe()"
   ]
  },
  {
   "cell_type": "code",
   "execution_count": null,
   "metadata": {},
   "outputs": [],
   "source": [
    "#много пропусков, длинный правый хвост"
   ]
  },
  {
   "cell_type": "markdown",
   "metadata": {},
   "source": [
    "# 20: total protein\n",
    "          - linear\n",
    "          - normal values lie in the 6-7.5 (gms/dL) range\n",
    "          - the higher the value the greater the dehydration"
   ]
  },
  {
   "cell_type": "code",
   "execution_count": 62,
   "metadata": {},
   "outputs": [],
   "source": [
    "d = df[df['total protein'] != '?']['total protein'].astype(float)"
   ]
  },
  {
   "cell_type": "code",
   "execution_count": 63,
   "metadata": {},
   "outputs": [
    {
     "data": {
      "text/plain": [
       "count    267.000000\n",
       "mean      24.456929\n",
       "std       27.475009\n",
       "min        3.300000\n",
       "25%        6.500000\n",
       "50%        7.500000\n",
       "75%       57.000000\n",
       "max       89.000000\n",
       "Name: total protein, dtype: float64"
      ]
     },
     "execution_count": 63,
     "metadata": {},
     "output_type": "execute_result"
    }
   ],
   "source": [
    "d.describe()"
   ]
  },
  {
   "cell_type": "code",
   "execution_count": null,
   "metadata": {},
   "outputs": [],
   "source": [
    "#длинный правый хвост, большой разброс для протеина выше нормы"
   ]
  },
  {
   "cell_type": "markdown",
   "metadata": {},
   "source": [
    "# 13: abdominal distension\n",
    "          - An IMPORTANT parameter.\n",
    "          - possible values\n",
    "               1 = none\n",
    "               2 = slight\n",
    "               3 = moderate\n",
    "               4 = severe\n",
    "          - an animal with abdominal distension is likely to be painful and\n",
    "            have reduced gut motility.\n",
    "          - a horse with severe abdominal distension is likely to require\n",
    "            surgery just tio relieve the pressure"
   ]
  },
  {
   "cell_type": "code",
   "execution_count": 64,
   "metadata": {},
   "outputs": [
    {
     "data": {
      "text/plain": [
       "Counter({'4': 38, '2': 65, '1': 76, '?': 56, '3': 65})"
      ]
     },
     "execution_count": 64,
     "metadata": {},
     "output_type": "execute_result"
    }
   ],
   "source": [
    "Counter(df['abdominal distension'])"
   ]
  },
  {
   "cell_type": "code",
   "execution_count": null,
   "metadata": {},
   "outputs": [],
   "source": [
    "# у большинства вздутие живота различной степени тяжести"
   ]
  },
  {
   "cell_type": "markdown",
   "metadata": {},
   "source": [
    "### Задание 2. Работа с выбросами\n",
    "\n",
    "В выбранных числовых столбцах найти выбросы, выдвинуть гипотезы об их причинах и проинтерпретировать результаты. Принять и обосновать решение о дальнейшей работе с ними."
   ]
  },
  {
   "cell_type": "code",
   "execution_count": 140,
   "metadata": {},
   "outputs": [],
   "source": [
    "def outliers(df,name):\n",
    "    \n",
    "    df= df[(df[name] != '?') & (df[name].isna() == False)]\n",
    "    df[name] = df[name].astype(float)\n",
    "\n",
    "    print('уникальные значения:')\n",
    "    print(df[name].sort_values().unique())\n",
    "    q1 = df[name].quantile(0.25)\n",
    "    q3 = df[name].quantile(0.75)\n",
    "    iqr = q3 - q1\n",
    "    lower_bound = q1 - (1.5 * iqr) \n",
    "    upper_bound = q3 + (1.5 * iqr)\n",
    "    remove_outliers = df[df[name].between(lower_bound, upper_bound, inclusive=True)].sort_values(name)\n",
    "    remove_outliers\n",
    "    print('')\n",
    "    print('выбросы:')\n",
    "    return pd.concat([df, remove_outliers]).drop_duplicates(keep=False)[name]"
   ]
  },
  {
   "cell_type": "code",
   "execution_count": 141,
   "metadata": {},
   "outputs": [
    {
     "name": "stdout",
     "output_type": "stream",
     "text": [
      "уникальные значения:\n",
      "[ 30.  36.  38.  40.  42.  44.  45.  46.  48.  49.  50.  52.  54.  56.\n",
      "  60.  64.  65.  66.  68.  70.  72.  75.  76.  78.  80.  82.  84.  86.\n",
      "  88.  90.  92.  96.  98. 100. 104. 108. 110. 112. 114. 120. 124. 128.\n",
      " 129. 130. 132. 136. 140. 146. 150. 160. 164. 184.]\n",
      "\n",
      "выбросы:\n"
     ]
    },
    {
     "name": "stderr",
     "output_type": "stream",
     "text": [
      "<ipython-input-140-74afa5f499ba>:4: SettingWithCopyWarning: \n",
      "A value is trying to be set on a copy of a slice from a DataFrame.\n",
      "Try using .loc[row_indexer,col_indexer] = value instead\n",
      "\n",
      "See the caveats in the documentation: https://pandas.pydata.org/pandas-docs/stable/user_guide/indexing.html#returning-a-view-versus-a-copy\n",
      "  df[name] = df[name].astype(float)\n"
     ]
    },
    {
     "data": {
      "text/plain": [
       "3      164.0\n",
       "41     150.0\n",
       "55     160.0\n",
       "255    184.0\n",
       "275    150.0\n",
       "Name: pulse, dtype: float64"
      ]
     },
     "execution_count": 141,
     "metadata": {},
     "output_type": "execute_result"
    }
   ],
   "source": [
    "outliers(df,'pulse')"
   ]
  },
  {
   "cell_type": "code",
   "execution_count": 142,
   "metadata": {},
   "outputs": [],
   "source": [
    "# высокий пульс может быть связан c наличием шока у животного"
   ]
  },
  {
   "cell_type": "code",
   "execution_count": 143,
   "metadata": {},
   "outputs": [
    {
     "name": "stdout",
     "output_type": "stream",
     "text": [
      "уникальные значения:\n",
      "[ 0.1  1.   1.3  1.4  1.5  1.6  2.   2.1  2.2  2.3  2.5  2.6  2.8  2.9\n",
      "  3.   3.2  3.3  3.4  3.6  3.7  3.9  4.1  4.3  4.4  4.5  4.7  4.8  5.\n",
      "  5.2  5.3  6.   6.6  7.   7.4  8.  10.  10.1]\n",
      "\n",
      "выбросы:\n"
     ]
    },
    {
     "name": "stderr",
     "output_type": "stream",
     "text": [
      "<ipython-input-140-74afa5f499ba>:4: SettingWithCopyWarning: \n",
      "A value is trying to be set on a copy of a slice from a DataFrame.\n",
      "Try using .loc[row_indexer,col_indexer] = value instead\n",
      "\n",
      "See the caveats in the documentation: https://pandas.pydata.org/pandas-docs/stable/user_guide/indexing.html#returning-a-view-versus-a-copy\n",
      "  df[name] = df[name].astype(float)\n"
     ]
    },
    {
     "data": {
      "text/plain": [
       "31      7.4\n",
       "71      7.0\n",
       "113    10.0\n",
       "143     7.0\n",
       "211    10.1\n",
       "225     8.0\n",
       "284     7.0\n",
       "Name: abdomcentesis total protein, dtype: float64"
      ]
     },
     "execution_count": 143,
     "metadata": {},
     "output_type": "execute_result"
    }
   ],
   "source": [
    "outliers(df,'abdomcentesis total protein')"
   ]
  },
  {
   "cell_type": "code",
   "execution_count": 144,
   "metadata": {},
   "outputs": [],
   "source": [
    "# возможно в результатах анализа ошибка"
   ]
  },
  {
   "cell_type": "code",
   "execution_count": 145,
   "metadata": {},
   "outputs": [
    {
     "name": "stdout",
     "output_type": "stream",
     "text": [
      "уникальные значения:\n",
      "[ 3.3  4.   4.5  4.6  4.7  4.9  5.   5.3  5.5  5.7  5.8  5.9  6.   6.1\n",
      "  6.2  6.3  6.4  6.5  6.6  6.7  6.8  6.9  7.   7.1  7.2  7.3  7.4  7.5\n",
      "  7.6  7.7  7.8  7.9  8.   8.1  8.2  8.3  8.4  8.5  8.6  8.7  8.8  8.9\n",
      "  9.   9.1 10.2 11.  13.  46.  50.  51.  53.  54.  55.  56.  57.  58.\n",
      " 59.  60.  61.  62.  63.  64.  65.  66.  67.  68.  69.  70.  71.  72.\n",
      " 73.  74.  75.  76.  77.  80.  81.  82.  85.  86.  89. ]\n",
      "\n",
      "выбросы:\n"
     ]
    },
    {
     "name": "stderr",
     "output_type": "stream",
     "text": [
      "<ipython-input-140-74afa5f499ba>:4: SettingWithCopyWarning: \n",
      "A value is trying to be set on a copy of a slice from a DataFrame.\n",
      "Try using .loc[row_indexer,col_indexer] = value instead\n",
      "\n",
      "See the caveats in the documentation: https://pandas.pydata.org/pandas-docs/stable/user_guide/indexing.html#returning-a-view-versus-a-copy\n",
      "  df[name] = df[name].astype(float)\n"
     ]
    },
    {
     "data": {
      "text/plain": [
       "Series([], Name: total protein, dtype: float64)"
      ]
     },
     "execution_count": 145,
     "metadata": {},
     "output_type": "execute_result"
    }
   ],
   "source": [
    "outliers(df,'total protein')"
   ]
  },
  {
   "cell_type": "code",
   "execution_count": null,
   "metadata": {},
   "outputs": [],
   "source": [
    "# выбросов нет"
   ]
  },
  {
   "cell_type": "markdown",
   "metadata": {},
   "source": [
    "### Задание 3. Работа с пропусками\n",
    "\n",
    "Рассчитать количество выбросов для всех выбранных столбцов. Принять и обосновать решение о методе работы с пропусками по каждому столбцу, сформировать датафрейм, в котором пропуски будут отсутствовать."
   ]
  },
  {
   "cell_type": "code",
   "execution_count": 252,
   "metadata": {},
   "outputs": [],
   "source": [
    "def empty_counter(df, names):\n",
    "    dct = {}\n",
    "    for item in names:\n",
    "\n",
    "        dct[item] = len(df[(df[item] == '?') | (df[item].isna() == True)][item])\n",
    "    return dct"
   ]
  },
  {
   "cell_type": "code",
   "execution_count": 253,
   "metadata": {},
   "outputs": [],
   "source": [
    "names = ['surgery?',\n",
    "         'Age',\n",
    "         'peripheral pulse',\n",
    "         'pulse',\n",
    "         'outcome',\n",
    "         'abdomcentesis total protein',\n",
    "         'total protein',\n",
    "         'abdominal distension']"
   ]
  },
  {
   "cell_type": "code",
   "execution_count": 254,
   "metadata": {},
   "outputs": [
    {
     "data": {
      "text/plain": [
       "{'surgery?': 1,\n",
       " 'Age': 0,\n",
       " 'peripheral pulse': 69,\n",
       " 'pulse': 24,\n",
       " 'outcome': 1,\n",
       " 'abdomcentesis total protein': 198,\n",
       " 'total protein': 33,\n",
       " 'abdominal distension': 56}"
      ]
     },
     "execution_count": 254,
     "metadata": {},
     "output_type": "execute_result"
    }
   ],
   "source": [
    "empty_counter(df, names)"
   ]
  },
  {
   "cell_type": "code",
   "execution_count": 255,
   "metadata": {},
   "outputs": [],
   "source": [
    "# для столбцов 'surgery?' и 'outcome' исключим строки с пропусками \n",
    "#'abdomcentesis total protein' - много пропусков, не будем использовать данный параметр\n",
    "# для остальных параметров заполним пропуски медианой или модой для порядковых значений"
   ]
  },
  {
   "cell_type": "code",
   "execution_count": 256,
   "metadata": {},
   "outputs": [],
   "source": [
    "df = df[(df['surgery?'] != '?') & (df['outcome'] != '?')]"
   ]
  },
  {
   "cell_type": "code",
   "execution_count": 257,
   "metadata": {},
   "outputs": [],
   "source": [
    "df['pulse'].fillna('?', inplace=True)"
   ]
  },
  {
   "cell_type": "code",
   "execution_count": 258,
   "metadata": {},
   "outputs": [],
   "source": [
    "df = df[names]"
   ]
  },
  {
   "cell_type": "code",
   "execution_count": 259,
   "metadata": {},
   "outputs": [],
   "source": [
    "df = df.drop(['abdomcentesis total protein'], axis=1)"
   ]
  },
  {
   "cell_type": "code",
   "execution_count": 266,
   "metadata": {},
   "outputs": [],
   "source": [
    "def fill_empty_with(df, names, type_):\n",
    "    for item in names:\n",
    "        if type_ == 'median':\n",
    "            df_change = df[df[item] != '?'][item].median()\n",
    "        elif type_ == 'mode':\n",
    "            df_change = df[df[item] != '?'][item].mode()[0]\n",
    "        \n",
    "     \n",
    "        df[item] = df[item].replace('?', df_change)\n",
    "    return df"
   ]
  },
  {
   "cell_type": "code",
   "execution_count": 267,
   "metadata": {},
   "outputs": [],
   "source": [
    "df = fill_empty_with(df, ['pulse', 'total protein'],'median')"
   ]
  },
  {
   "cell_type": "code",
   "execution_count": 268,
   "metadata": {},
   "outputs": [],
   "source": [
    "df = fill_empty_with(df, ['peripheral pulse', 'abdominal distension'],'mode')"
   ]
  },
  {
   "cell_type": "code",
   "execution_count": 269,
   "metadata": {},
   "outputs": [
    {
     "data": {
      "text/html": [
       "<div>\n",
       "<style scoped>\n",
       "    .dataframe tbody tr th:only-of-type {\n",
       "        vertical-align: middle;\n",
       "    }\n",
       "\n",
       "    .dataframe tbody tr th {\n",
       "        vertical-align: top;\n",
       "    }\n",
       "\n",
       "    .dataframe thead th {\n",
       "        text-align: right;\n",
       "    }\n",
       "</style>\n",
       "<table border=\"1\" class=\"dataframe\">\n",
       "  <thead>\n",
       "    <tr style=\"text-align: right;\">\n",
       "      <th></th>\n",
       "      <th>surgery?</th>\n",
       "      <th>Age</th>\n",
       "      <th>peripheral pulse</th>\n",
       "      <th>pulse</th>\n",
       "      <th>outcome</th>\n",
       "      <th>total protein</th>\n",
       "      <th>abdominal distension</th>\n",
       "    </tr>\n",
       "  </thead>\n",
       "  <tbody>\n",
       "    <tr>\n",
       "      <th>0</th>\n",
       "      <td>2</td>\n",
       "      <td>1</td>\n",
       "      <td>3</td>\n",
       "      <td>66</td>\n",
       "      <td>2</td>\n",
       "      <td>8.40</td>\n",
       "      <td>4</td>\n",
       "    </tr>\n",
       "    <tr>\n",
       "      <th>1</th>\n",
       "      <td>1</td>\n",
       "      <td>1</td>\n",
       "      <td>1</td>\n",
       "      <td>88</td>\n",
       "      <td>3</td>\n",
       "      <td>85</td>\n",
       "      <td>2</td>\n",
       "    </tr>\n",
       "    <tr>\n",
       "      <th>2</th>\n",
       "      <td>2</td>\n",
       "      <td>1</td>\n",
       "      <td>1</td>\n",
       "      <td>40</td>\n",
       "      <td>1</td>\n",
       "      <td>6.70</td>\n",
       "      <td>1</td>\n",
       "    </tr>\n",
       "    <tr>\n",
       "      <th>3</th>\n",
       "      <td>1</td>\n",
       "      <td>9</td>\n",
       "      <td>1</td>\n",
       "      <td>164</td>\n",
       "      <td>2</td>\n",
       "      <td>7.20</td>\n",
       "      <td>4</td>\n",
       "    </tr>\n",
       "    <tr>\n",
       "      <th>4</th>\n",
       "      <td>2</td>\n",
       "      <td>1</td>\n",
       "      <td>1</td>\n",
       "      <td>104</td>\n",
       "      <td>2</td>\n",
       "      <td>7.40</td>\n",
       "      <td>1</td>\n",
       "    </tr>\n",
       "    <tr>\n",
       "      <th>...</th>\n",
       "      <td>...</td>\n",
       "      <td>...</td>\n",
       "      <td>...</td>\n",
       "      <td>...</td>\n",
       "      <td>...</td>\n",
       "      <td>...</td>\n",
       "      <td>...</td>\n",
       "    </tr>\n",
       "    <tr>\n",
       "      <th>295</th>\n",
       "      <td>1</td>\n",
       "      <td>1</td>\n",
       "      <td>1</td>\n",
       "      <td>120</td>\n",
       "      <td>3</td>\n",
       "      <td>65</td>\n",
       "      <td>1</td>\n",
       "    </tr>\n",
       "    <tr>\n",
       "      <th>296</th>\n",
       "      <td>2</td>\n",
       "      <td>1</td>\n",
       "      <td>2</td>\n",
       "      <td>72</td>\n",
       "      <td>3</td>\n",
       "      <td>7.5</td>\n",
       "      <td>3</td>\n",
       "    </tr>\n",
       "    <tr>\n",
       "      <th>297</th>\n",
       "      <td>1</td>\n",
       "      <td>1</td>\n",
       "      <td>3</td>\n",
       "      <td>72</td>\n",
       "      <td>2</td>\n",
       "      <td>6.80</td>\n",
       "      <td>3</td>\n",
       "    </tr>\n",
       "    <tr>\n",
       "      <th>298</th>\n",
       "      <td>1</td>\n",
       "      <td>1</td>\n",
       "      <td>3</td>\n",
       "      <td>100</td>\n",
       "      <td>1</td>\n",
       "      <td>6.00</td>\n",
       "      <td>3</td>\n",
       "    </tr>\n",
       "    <tr>\n",
       "      <th>299</th>\n",
       "      <td>1</td>\n",
       "      <td>1</td>\n",
       "      <td>1</td>\n",
       "      <td>40</td>\n",
       "      <td>3</td>\n",
       "      <td>62</td>\n",
       "      <td>1</td>\n",
       "    </tr>\n",
       "  </tbody>\n",
       "</table>\n",
       "<p>299 rows × 7 columns</p>\n",
       "</div>"
      ],
      "text/plain": [
       "    surgery?  Age peripheral pulse pulse outcome total protein  \\\n",
       "0          2    1                3    66       2          8.40   \n",
       "1          1    1                1    88       3            85   \n",
       "2          2    1                1    40       1          6.70   \n",
       "3          1    9                1   164       2          7.20   \n",
       "4          2    1                1   104       2          7.40   \n",
       "..       ...  ...              ...   ...     ...           ...   \n",
       "295        1    1                1   120       3            65   \n",
       "296        2    1                2    72       3           7.5   \n",
       "297        1    1                3    72       2          6.80   \n",
       "298        1    1                3   100       1          6.00   \n",
       "299        1    1                1    40       3            62   \n",
       "\n",
       "    abdominal distension  \n",
       "0                      4  \n",
       "1                      2  \n",
       "2                      1  \n",
       "3                      4  \n",
       "4                      1  \n",
       "..                   ...  \n",
       "295                    1  \n",
       "296                    3  \n",
       "297                    3  \n",
       "298                    3  \n",
       "299                    1  \n",
       "\n",
       "[299 rows x 7 columns]"
      ]
     },
     "execution_count": 269,
     "metadata": {},
     "output_type": "execute_result"
    }
   ],
   "source": [
    "df"
   ]
  },
  {
   "cell_type": "code",
   "execution_count": null,
   "metadata": {},
   "outputs": [],
   "source": []
  }
 ],
 "metadata": {
  "kernelspec": {
   "display_name": "Python 3",
   "language": "python",
   "name": "python3"
  },
  "language_info": {
   "codemirror_mode": {
    "name": "ipython",
    "version": 3
   },
   "file_extension": ".py",
   "mimetype": "text/x-python",
   "name": "python",
   "nbconvert_exporter": "python",
   "pygments_lexer": "ipython3",
   "version": "3.8.3"
  }
 },
 "nbformat": 4,
 "nbformat_minor": 2
}
