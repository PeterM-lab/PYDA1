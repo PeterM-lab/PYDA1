{
 "cells": [
  {
   "cell_type": "markdown",
   "metadata": {},
   "source": [
    "# Смоделировать игру против лотерейного автомата типа “777”. Игрок платит 1 руб., после чего выпадает случайное целое число,\n",
    "равномерно распределенное от 0 до 999. При некоторых значениях числа игрок получает выигрыш (см. справа)\n",
    "\n",
    "Выгодна ли игра игроку?\n",
    "\n",
    "Сколько в среднем приобретает\n",
    "или теряет игрок за одну игру?\n",
    "\n",
    "777: 200 руб.\n",
    "999: 100 руб.\n",
    "555: 50 руб.\n",
    "333: 15 руб.\n",
    "111: 10 руб.\n",
    "*77: 5 руб.\n",
    "**7: 3 руб.\n",
    "*00: 2 руб.\n",
    "**0: 1 руб.\n",
    "\n",
    "– любая цифра\n"
   ]
  },
  {
   "cell_type": "code",
   "execution_count": 8,
   "metadata": {},
   "outputs": [],
   "source": [
    "import numpy as np\n",
    "import matplotlib.pyplot as plt"
   ]
  },
  {
   "cell_type": "code",
   "execution_count": 75,
   "metadata": {},
   "outputs": [
    {
     "data": {
      "text/plain": [
       "(array([34116., 32978., 32959., 33940., 32881., 32854., 33942., 32977.,\n",
       "        32990., 32756., 33981., 33040., 33248., 33920., 33146., 33092.,\n",
       "        34211., 32942., 33020., 32905., 33852., 33012., 32769., 34242.,\n",
       "        32799., 33299., 34022., 32969., 33143., 33995.]),\n",
       " array([  0. ,  33.3,  66.6,  99.9, 133.2, 166.5, 199.8, 233.1, 266.4,\n",
       "        299.7, 333. , 366.3, 399.6, 432.9, 466.2, 499.5, 532.8, 566.1,\n",
       "        599.4, 632.7, 666. , 699.3, 732.6, 765.9, 799.2, 832.5, 865.8,\n",
       "        899.1, 932.4, 965.7, 999. ]),\n",
       " <a list of 30 Patch objects>)"
      ]
     },
     "execution_count": 75,
     "metadata": {},
     "output_type": "execute_result"
    },
    {
     "data": {
      "image/png": "[encoded data removed]",
      "text/plain": [
       "<Figure size 432x288 with 1 Axes>"
      ]
     },
     "metadata": {
      "needs_background": "light"
     },
     "output_type": "display_data"
    }
   ],
   "source": [
    "a = np.random.randint(1000, size=1000000, dtype = int)\n",
    "plt.hist(a, bins=30) "
   ]
  },
  {
   "cell_type": "code",
   "execution_count": 97,
   "metadata": {},
   "outputs": [],
   "source": [
    "a = np.random.randint(1000, size=10000000, dtype = int)"
   ]
  },
  {
   "cell_type": "code",
   "execution_count": 103,
   "metadata": {},
   "outputs": [
    {
     "name": "stdout",
     "output_type": "stream",
     "text": [
      "-0.1985266\n"
     ]
    }
   ],
   "source": [
    "sch = 0\n",
    "\n",
    "for item in a:\n",
    "   \n",
    "    sch -= 1\n",
    "    if (item == 777):\n",
    "        sch += 200\n",
    "    elif item == 999:\n",
    "        sch += 100\n",
    "    elif item == 555:\n",
    "        sch += 50 \n",
    "    elif item == 333:\n",
    "        sch += 15\n",
    "    elif item == 111:\n",
    "        sch += 10 \n",
    "    elif (item % 100) == 77:\n",
    "        sch += 5\n",
    "    elif (item % 10) == 7:\n",
    "        sch += 3\n",
    "    elif (item % 100) == 0:\n",
    "        sch += 2\n",
    "    elif (item % 10) == 0:\n",
    "        sch += 1\n",
    "\n",
    "print(sch/len(a))"
   ]
  },
  {
   "cell_type": "code",
   "execution_count": 72,
   "metadata": {},
   "outputs": [],
   "source": [
    "# В среднем теряет 20 копеек за 1 игру"
   ]
  },
  {
   "cell_type": "code",
   "execution_count": null,
   "metadata": {},
   "outputs": [],
   "source": [
    "Дополнительное задание повышенной сложности. Теоретически рассчитать средний выигрыш (проигрыш) и сравнить с\n",
    "результатами моделирования"
   ]
  },
  {
   "cell_type": "code",
   "execution_count": 110,
   "metadata": {},
   "outputs": [],
   "source": [
    "p777 = p999 = p555 = p333 = p111 = 1/1000"
   ]
  },
  {
   "cell_type": "code",
   "execution_count": 111,
   "metadata": {},
   "outputs": [],
   "source": [
    "p77 = p00 = (9/10)*(1/100)"
   ]
  },
  {
   "cell_type": "code",
   "execution_count": 132,
   "metadata": {},
   "outputs": [],
   "source": [
    "p7 = p0 = (90/100)*(1/10)"
   ]
  },
  {
   "cell_type": "code",
   "execution_count": 133,
   "metadata": {},
   "outputs": [
    {
     "name": "stdout",
     "output_type": "stream",
     "text": [
      "-0.20199999999999996\n"
     ]
    }
   ],
   "source": [
    "s = p777*200 + p999*100 + p555*50 + p333*15 + p111*10 + p77*5 + p7*3 + p00*2 + p0*1\n",
    "print(s - 1) "
   ]
  },
  {
   "cell_type": "code",
   "execution_count": null,
   "metadata": {},
   "outputs": [],
   "source": [
    "# получилось тоже 20 копеек проигрыша"
   ]
  }
 ],
 "metadata": {
  "kernelspec": {
   "display_name": "Python 3",
   "language": "python",
   "name": "python3"
  },
  "language_info": {
   "codemirror_mode": {
    "name": "ipython",
    "version": 3
   },
   "file_extension": ".py",
   "mimetype": "text/x-python",
   "name": "python",
   "nbconvert_exporter": "python",
   "pygments_lexer": "ipython3",
   "version": "3.8.3"
  }
 },
 "nbformat": 4,
 "nbformat_minor": 4
}
